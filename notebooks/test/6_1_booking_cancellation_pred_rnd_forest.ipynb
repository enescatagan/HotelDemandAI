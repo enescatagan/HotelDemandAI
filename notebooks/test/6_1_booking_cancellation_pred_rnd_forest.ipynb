{
 "cells": [
  {
   "cell_type": "code",
   "execution_count": 56,
   "metadata": {},
   "outputs": [],
   "source": [
    "# Import Libraries\n",
    "import numpy as np\n",
    "import pandas as pd\n",
    "import matplotlib.pyplot as plt\n",
    "import seaborn as sns\n",
    "\n",
    "import warnings\n",
    "warnings.filterwarnings('ignore')\n",
    "\n",
    "%matplotlib inline\n",
    "pd.set_option('display.max_columns', None)\n",
    "pd.set_option('display.width', None)"
   ]
  },
  {
   "cell_type": "code",
   "execution_count": 57,
   "metadata": {},
   "outputs": [],
   "source": [
    "from sklearn.impute import SimpleImputer\n",
    "from sklearn.preprocessing import StandardScaler, OneHotEncoder\n",
    "\n",
    "from sklearn.ensemble import RandomForestClassifier\n",
    "\n",
    "from imblearn.over_sampling import SMOTE\n",
    "\n",
    "from sklearn.metrics import accuracy_score\n",
    "from sklearn.metrics import confusion_matrix\n",
    "from sklearn.metrics import classification_report\n",
    "from sklearn.metrics import roc_auc_score\n",
    "from sklearn.metrics import roc_curve\n",
    "from sklearn.model_selection import cross_val_score\n",
    "\n",
    "from sklearn.model_selection import GridSearchCV"
   ]
  },
  {
   "cell_type": "code",
   "execution_count": 58,
   "metadata": {},
   "outputs": [],
   "source": [
    "# load data\n",
    "df = pd.read_csv('../../data/H2.csv')"
   ]
  },
  {
   "cell_type": "code",
   "execution_count": 59,
   "metadata": {},
   "outputs": [],
   "source": [
    "# Handle missing values\n",
    "df[\"Children\"].fillna(0, inplace=True)  # Fill missing 'Children' with 0\n",
    "df[\"Country\"].fillna(\"Unknown\", inplace=True)  # Fill missing 'Country' with 'Unknown'\n",
    "\n",
    "# Drop rows where adults, babies and children are zero at the same time\n",
    "df = df[(df[\"Adults\"] != 0) | (df[\"Babies\"] != 0) | (df[\"Children\"] != 0)]"
   ]
  },
  {
   "cell_type": "markdown",
   "metadata": {},
   "source": [
    "**Remove Directly Related Features:**\n",
    "\n",
    "Features like `reservation_status`, `reservation_status_date` and `assigned_room_type` are directly related to the target variable is_canceled, and including them in the model would result in data leakage. Removing these features is essential to build a predictive model that can genuinely forecast cancellations, rather than retrospectively label them:"
   ]
  },
  {
   "cell_type": "code",
   "execution_count": 60,
   "metadata": {},
   "outputs": [],
   "source": [
    "# Remove Directly Related columns with label\n",
    "df = df.drop(\n",
    "    [\"ReservationStatus\", \"ReservationStatusDate\", \"AssignedRoomType\"], axis=1\n",
    ")"
   ]
  },
  {
   "cell_type": "code",
   "execution_count": 61,
   "metadata": {},
   "outputs": [
    {
     "name": "stdout",
     "output_type": "stream",
     "text": [
      "Total Number of Rows: 79163\n",
      "Total Number of Rows without Duplicates: 52427\n"
     ]
    }
   ],
   "source": [
    "# Drop Duplicate rows\n",
    "print(f\"Total Number of Rows: {len(df)}\")\n",
    "print(f\"Total Number of Rows without Duplicates: {len(df.drop_duplicates())}\")\n",
    "\n",
    "df = df.drop_duplicates()"
   ]
  },
  {
   "cell_type": "code",
   "execution_count": 62,
   "metadata": {},
   "outputs": [
    {
     "data": {
      "text/plain": [
       "IsCanceled                     1.000000\n",
       "LeadTime                       0.194041\n",
       "TotalOfSpecialRequests         0.167560\n",
       "RequiredCarParkingSpaces       0.126756\n",
       "StaysInWeekNights              0.113899\n",
       "BookingChanges                 0.091110\n",
       "ADR                            0.082412\n",
       "Adults                         0.080043\n",
       "ArrivalDateYear                0.079534\n",
       "IsRepeatedGuest                0.073888\n",
       "StaysInWeekendNights           0.063109\n",
       "PreviousBookingsNotCanceled    0.049054\n",
       "PreviousCancellations          0.038171\n",
       "Children                       0.034385\n",
       "Babies                         0.021801\n",
       "DaysInWaitingList              0.012109\n",
       "ArrivalDateWeekNumber          0.006952\n",
       "ArrivalDateDayOfMonth          0.003485\n",
       "Name: IsCanceled, dtype: float64"
      ]
     },
     "execution_count": 62,
     "metadata": {},
     "output_type": "execute_result"
    }
   ],
   "source": [
    "# Remove Unimportant Variables\n",
    "corr_matrix = df.select_dtypes(include=[np.number]).corr()\n",
    "corr_matrix['IsCanceled'].abs().sort_values(ascending=False)  "
   ]
  },
  {
   "cell_type": "code",
   "execution_count": 63,
   "metadata": {},
   "outputs": [],
   "source": [
    "df = df.drop(\n",
    "    [\n",
    "        \"ArrivalDateDayOfMonth\",\n",
    "        \"ArrivalDateWeekNumber\",\n",
    "    ],\n",
    "    axis=1,\n",
    ")"
   ]
  },
  {
   "cell_type": "code",
   "execution_count": 64,
   "metadata": {},
   "outputs": [
    {
     "data": {
      "text/plain": [
       "Index(['ArrivalDateMonth', 'Meal', 'Country', 'MarketSegment',\n",
       "       'DistributionChannel', 'ReservedRoomType', 'DepositType', 'Agent',\n",
       "       'Company', 'CustomerType'],\n",
       "      dtype='object')"
      ]
     },
     "execution_count": 64,
     "metadata": {},
     "output_type": "execute_result"
    }
   ],
   "source": [
    "df.select_dtypes(include=['object', 'category']).columns"
   ]
  },
  {
   "cell_type": "code",
   "execution_count": 65,
   "metadata": {},
   "outputs": [
    {
     "data": {
      "text/plain": [
       "Region\n",
       "Europe           40928\n",
       "South America     1722\n",
       "North America     1466\n",
       "Asia               488\n",
       "Oceania            292\n",
       "Unknown              3\n",
       "Name: count, dtype: int64"
      ]
     },
     "execution_count": 65,
     "metadata": {},
     "output_type": "execute_result"
    }
   ],
   "source": [
    "# Define a dictionary to map country codes to regions\n",
    "country_to_region = {\n",
    "    \"PRT\": \"Europe\",\n",
    "    \"GBR\": \"Europe\",\n",
    "    \"ESP\": \"Europe\",\n",
    "    \"IRL\": \"Europe\",\n",
    "    \"NLD\": \"Europe\",\n",
    "    \"RUS\": \"Europe\",\n",
    "    \"FRA\": \"Europe\",\n",
    "    \"DEU\": \"Europe\",\n",
    "    \"ITA\": \"Europe\",\n",
    "    \"BEL\": \"Europe\",\n",
    "    \"CHE\": \"Europe\",\n",
    "    \"USA\": \"North America\",\n",
    "    \"CAN\": \"North America\",\n",
    "    \"MEX\": \"North America\",\n",
    "    \"CN\": \"Asia\",\n",
    "    \"BRA\": \"South America\",\n",
    "    \"ARG\": \"South America\",\n",
    "    \"AUS\": \"Oceania\",\n",
    "    \"Unknown\": \"Unknown\",\n",
    "}\n",
    "\n",
    "# Map the country codes to regions\n",
    "df[\"Region\"] = df[\"Country\"].map(country_to_region)\n",
    "\n",
    "# Drop the Country column\n",
    "df.drop(columns=[\"Country\"], inplace=True)\n",
    "\n",
    "df[\"Region\"].value_counts()"
   ]
  },
  {
   "cell_type": "code",
   "execution_count": 66,
   "metadata": {},
   "outputs": [
    {
     "data": {
      "text/plain": [
       "Agent\n",
       "9      28582\n",
       "0       5451\n",
       "14      3329\n",
       "7       3281\n",
       "28      1482\n",
       "       ...  \n",
       "388        1\n",
       "480        1\n",
       "464        1\n",
       "476        1\n",
       "449        1\n",
       "Name: count, Length: 224, dtype: int64"
      ]
     },
     "execution_count": 66,
     "metadata": {},
     "output_type": "execute_result"
    }
   ],
   "source": [
    "# Remove blank spaces from the 'Agent' column\n",
    "df['Agent'] = df['Agent'].str.strip()\n",
    "\n",
    "# Replace 'NULL' values in the 'Agent' column with 0\n",
    "df['Agent'].replace('NULL', 0, inplace=True)\n",
    "\n",
    "# Convert the 'Agent' column to integer\n",
    "df['Agent'] = df['Agent'].astype(int)\n",
    "\n",
    "df['Agent'].value_counts()"
   ]
  },
  {
   "cell_type": "code",
   "execution_count": 67,
   "metadata": {},
   "outputs": [
    {
     "data": {
      "text/plain": [
       "Company\n",
       "0      49722\n",
       "40       841\n",
       "45       230\n",
       "153      205\n",
       "219      130\n",
       "       ...  \n",
       "481        1\n",
       "494        1\n",
       "491        1\n",
       "421        1\n",
       "497        1\n",
       "Name: count, Length: 204, dtype: int64"
      ]
     },
     "execution_count": 67,
     "metadata": {},
     "output_type": "execute_result"
    }
   ],
   "source": [
    "# Remove blank spaces from the 'Agent' column\n",
    "df['Company'] = df['Company'].str.strip()\n",
    "\n",
    "# Replace 'NULL' values in the 'Agent' column with 0\n",
    "df['Company'].replace('NULL', 0, inplace=True)\n",
    "\n",
    "# Convert the 'Agent' column to integer\n",
    "df['Company'] = df['Company'].astype(int)\n",
    "\n",
    "df['Company'].value_counts()"
   ]
  },
  {
   "cell_type": "code",
   "execution_count": 68,
   "metadata": {},
   "outputs": [
    {
     "data": {
      "text/plain": [
       "(41941,\n",
       " 10486,\n",
       " IsCanceled\n",
       " 0    0.698004\n",
       " 1    0.301996\n",
       " Name: proportion, dtype: float64,\n",
       " IsCanceled\n",
       " 0    0.697978\n",
       " 1    0.302022\n",
       " Name: proportion, dtype: float64)"
      ]
     },
     "execution_count": 68,
     "metadata": {},
     "output_type": "execute_result"
    }
   ],
   "source": [
    "from sklearn.model_selection import train_test_split\n",
    "\n",
    "# Split data to features and target\n",
    "X = df.drop(\"IsCanceled\", axis=1)\n",
    "y = df[\"IsCanceled\"]\n",
    "\n",
    "# Stratified splitting into train and test sets (80% train, 20% test)\n",
    "X_train, X_test, y_train, y_test = train_test_split(\n",
    "    X, \n",
    "    y, \n",
    "    test_size=0.2, \n",
    "    stratify=y, \n",
    "    random_state=42,\n",
    "    shuffle=True\n",
    ")\n",
    "\n",
    "# Check the resulting split sizes and class distribution in both sets\n",
    "train_size = X_train.shape[0]\n",
    "test_size = X_test.shape[0]\n",
    "train_class_distribution = y_train.value_counts(normalize=True)\n",
    "test_class_distribution = y_test.value_counts(normalize=True)\n",
    "\n",
    "train_size, test_size, train_class_distribution, test_class_distribution"
   ]
  },
  {
   "cell_type": "code",
   "execution_count": 69,
   "metadata": {},
   "outputs": [],
   "source": [
    "# Categoric and Numeric features\n",
    "numerical_features = X_train.select_dtypes(include=['int64', 'float64']).columns\n",
    "categorical_features = X_train.select_dtypes(include=['object', 'category']).columns\n",
    "\n",
    "imp_num = SimpleImputer(strategy='median')\n",
    "imp_cat = SimpleImputer(strategy='most_frequent')\n",
    "\n",
    "# Fit and transform the training data\n",
    "X_train_num = imp_num.fit_transform(X_train[numerical_features])\n",
    "X_train_cat = imp_cat.fit_transform(X_train[categorical_features])\n",
    "\n",
    "# Transform the test data\n",
    "X_test_num = imp_num.transform(X_test[numerical_features])\n",
    "X_test_cat = imp_cat.transform(X_test[categorical_features])\n",
    "\n",
    "# Convert the arrays back to dataframes\n",
    "X_train_num = pd.DataFrame(X_train_num, columns=numerical_features)\n",
    "X_train_cat = pd.DataFrame(X_train_cat, columns=categorical_features)\n",
    "\n",
    "X_test_num = pd.DataFrame(X_test_num, columns=numerical_features)\n",
    "X_test_cat = pd.DataFrame(X_test_cat, columns=categorical_features)\n",
    "\n",
    "# Combine the numeric and categorical features\n",
    "X_train = pd.concat([X_train_num, X_train_cat], axis=1)\n",
    "X_test = pd.concat([X_test_num, X_test_cat], axis=1)"
   ]
  },
  {
   "cell_type": "code",
   "execution_count": 70,
   "metadata": {},
   "outputs": [
    {
     "data": {
      "text/plain": [
       "((41941, 25), (10486, 25))"
      ]
     },
     "execution_count": 70,
     "metadata": {},
     "output_type": "execute_result"
    }
   ],
   "source": [
    "X_train.shape, X_test.shape"
   ]
  },
  {
   "cell_type": "code",
   "execution_count": 71,
   "metadata": {},
   "outputs": [],
   "source": [
    "# OneHotEncoder\n",
    "encoder = OneHotEncoder()\n",
    "\n",
    "# Fit and transform the training data\n",
    "X_train_cat_encoded = encoder.fit_transform(X_train[categorical_features])\n",
    "\n",
    "# Transform the test data\n",
    "X_test_cat_encoded = encoder.transform(X_test[categorical_features])"
   ]
  },
  {
   "cell_type": "code",
   "execution_count": 72,
   "metadata": {},
   "outputs": [
    {
     "data": {
      "text/plain": [
       "((41941, 49), (41941, 8))"
      ]
     },
     "execution_count": 72,
     "metadata": {},
     "output_type": "execute_result"
    }
   ],
   "source": [
    "X_train_cat_encoded.shape, X_train[categorical_features].shape"
   ]
  },
  {
   "cell_type": "code",
   "execution_count": 73,
   "metadata": {},
   "outputs": [
    {
     "data": {
      "text/plain": [
       "49"
      ]
     },
     "execution_count": 73,
     "metadata": {},
     "output_type": "execute_result"
    }
   ],
   "source": [
    "len(encoder.get_feature_names_out())"
   ]
  },
  {
   "cell_type": "code",
   "execution_count": 74,
   "metadata": {},
   "outputs": [
    {
     "data": {
      "text/plain": [
       "scipy.sparse._csr.csr_matrix"
      ]
     },
     "execution_count": 74,
     "metadata": {},
     "output_type": "execute_result"
    }
   ],
   "source": [
    "type(X_train_cat_encoded)"
   ]
  },
  {
   "cell_type": "code",
   "execution_count": 75,
   "metadata": {},
   "outputs": [],
   "source": [
    "# Convert csr_matrix to numpy array\n",
    "X_train_cat_encoded = X_train_cat_encoded.toarray()\n",
    "X_test_cat_encoded = X_test_cat_encoded.toarray()\n",
    "\n",
    "# Convert the arrays back to dataframes\n",
    "X_train_cat_encoded = pd.DataFrame(\n",
    "    X_train_cat_encoded, columns=encoder.get_feature_names_out()\n",
    ")\n",
    "X_test_cat_encoded = pd.DataFrame(\n",
    "    X_test_cat_encoded, columns=encoder.get_feature_names_out()\n",
    ")\n",
    "\n",
    "# Combine the numeric and categorical features\n",
    "X_train = pd.concat([X_train_num, X_train_cat_encoded], axis=1)\n",
    "X_test = pd.concat([X_test_num, X_test_cat_encoded], axis=1)"
   ]
  },
  {
   "cell_type": "code",
   "execution_count": 76,
   "metadata": {},
   "outputs": [
    {
     "name": "stdout",
     "output_type": "stream",
     "text": [
      "Class Distribution after SMOTE : Counter({0: 29275, 1: 29275})\n"
     ]
    }
   ],
   "source": [
    "# oversampling with SMOTE\n",
    "smote = SMOTE(random_state=42)\n",
    "X_train, y_train = smote.fit_resample(X_train, y_train)\n",
    "\n",
    "# New Class Distribution\n",
    "from collections import Counter\n",
    "print(f\"Class Distribution after SMOTE : {Counter(y_train)}\")\n"
   ]
  },
  {
   "cell_type": "code",
   "execution_count": 77,
   "metadata": {},
   "outputs": [
    {
     "data": {
      "text/plain": [
       "((58550, 66), (58550,), (10486, 66), (10486,))"
      ]
     },
     "execution_count": 77,
     "metadata": {},
     "output_type": "execute_result"
    }
   ],
   "source": [
    "X_train.shape, y_train.shape, X_test.shape, y_test.shape"
   ]
  },
  {
   "cell_type": "code",
   "execution_count": 78,
   "metadata": {},
   "outputs": [
    {
     "data": {
      "text/plain": [
       "0.7909593744039672"
      ]
     },
     "execution_count": 78,
     "metadata": {},
     "output_type": "execute_result"
    }
   ],
   "source": [
    "# Instantiate the classifier\n",
    "rf = RandomForestClassifier(random_state=42)\n",
    "\n",
    "# Fit the model\n",
    "rf.fit(X_train, y_train)\n",
    "\n",
    "# Predict the labels\n",
    "y_pred = rf.predict(X_test)\n",
    "\n",
    "# Calculate the accuracy\n",
    "accuracy = accuracy_score(y_test, y_pred)\n",
    "accuracy"
   ]
  },
  {
   "cell_type": "code",
   "execution_count": 79,
   "metadata": {},
   "outputs": [
    {
     "data": {
      "text/plain": [
       "array([[6516,  803],\n",
       "       [1389, 1778]])"
      ]
     },
     "execution_count": 79,
     "metadata": {},
     "output_type": "execute_result"
    }
   ],
   "source": [
    "# Calculate the confusion matrix\n",
    "conf_matrix = confusion_matrix(y_test, y_pred)\n",
    "conf_matrix"
   ]
  },
  {
   "cell_type": "code",
   "execution_count": 80,
   "metadata": {},
   "outputs": [
    {
     "name": "stdout",
     "output_type": "stream",
     "text": [
      "              precision    recall  f1-score   support\n",
      "\n",
      "           0       0.82      0.89      0.86      7319\n",
      "           1       0.69      0.56      0.62      3167\n",
      "\n",
      "    accuracy                           0.79     10486\n",
      "   macro avg       0.76      0.73      0.74     10486\n",
      "weighted avg       0.78      0.79      0.78     10486\n",
      "\n"
     ]
    }
   ],
   "source": [
    "# Generate the classification report\n",
    "class_report = classification_report(y_test, y_pred)\n",
    "print(class_report)"
   ]
  },
  {
   "cell_type": "code",
   "execution_count": 81,
   "metadata": {},
   "outputs": [
    {
     "data": {
      "text/plain": [
       "np.float64(0.7258500730372347)"
      ]
     },
     "execution_count": 81,
     "metadata": {},
     "output_type": "execute_result"
    }
   ],
   "source": [
    "# Calculate the ROC AUC score\n",
    "roc_auc = roc_auc_score(y_test, y_pred)\n",
    "roc_auc"
   ]
  },
  {
   "cell_type": "code",
   "execution_count": 82,
   "metadata": {},
   "outputs": [
    {
     "data": {
      "image/png": "[encoded data removed]",
      "text/plain": [
       "<Figure size 1000x600 with 1 Axes>"
      ]
     },
     "metadata": {},
     "output_type": "display_data"
    }
   ],
   "source": [
    "# Calculate the fpr and tpr for all thresholds of the classification\n",
    "fpr, tpr, threshold = roc_curve(y_test, y_pred)\n",
    "\n",
    "# Plot the ROC curve\n",
    "plt.figure(figsize=(10, 6))\n",
    "plt.plot(fpr, tpr, color='orange', label='ROC')\n",
    "plt.plot([0, 1], [0, 1], color='darkblue', linestyle='--')\n",
    "plt.xlabel('False Positive Rate')\n",
    "plt.ylabel('True Positive Rate')\n",
    "plt.title('Receiver Operating Characteristic (ROC) Curve')\n",
    "plt.legend()\n",
    "plt.show()"
   ]
  },
  {
   "cell_type": "code",
   "execution_count": 83,
   "metadata": {},
   "outputs": [
    {
     "data": {
      "text/plain": [
       "array([0.71955594, 0.70956447, 0.9030743 , 0.93808711, 0.93509821])"
      ]
     },
     "execution_count": 83,
     "metadata": {},
     "output_type": "execute_result"
    }
   ],
   "source": [
    "# Perform 5-fold cross validation\n",
    "cv_scores = cross_val_score(rf, X_train, y_train, cv=5, scoring='accuracy')\n",
    "cv_scores"
   ]
  },
  {
   "cell_type": "code",
   "execution_count": 84,
   "metadata": {},
   "outputs": [
    {
     "data": {
      "text/plain": [
       "np.float64(0.841076003415884)"
      ]
     },
     "execution_count": 84,
     "metadata": {},
     "output_type": "execute_result"
    }
   ],
   "source": [
    "# Calculate the mean accuracy\n",
    "cv_mean = cv_scores.mean()\n",
    "cv_mean"
   ]
  },
  {
   "cell_type": "code",
   "execution_count": 85,
   "metadata": {},
   "outputs": [
    {
     "data": {
      "text/plain": [
       "np.float64(0.10407451745739812)"
      ]
     },
     "execution_count": 85,
     "metadata": {},
     "output_type": "execute_result"
    }
   ],
   "source": [
    "# Calculate the standard deviation of accuracy\n",
    "cv_std = cv_scores.std()\n",
    "cv_std"
   ]
  },
  {
   "cell_type": "code",
   "execution_count": 86,
   "metadata": {},
   "outputs": [
    {
     "name": "stdout",
     "output_type": "stream",
     "text": [
      "Fitting 5 folds for each of 81 candidates, totalling 405 fits\n"
     ]
    },
    {
     "data": {
      "text/plain": [
       "{'max_depth': 20,\n",
       " 'min_samples_leaf': 1,\n",
       " 'min_samples_split': 2,\n",
       " 'n_estimators': 300}"
      ]
     },
     "execution_count": 86,
     "metadata": {},
     "output_type": "execute_result"
    }
   ],
   "source": [
    "# Define the hyperparameters\n",
    "param_grid = {\n",
    "    'n_estimators': [100, 200, 300],\n",
    "    'max_depth': [10, 20, 30],\n",
    "    'min_samples_split': [2, 5, 10],\n",
    "    'min_samples_leaf': [1, 2, 4]\n",
    "}\n",
    "\n",
    "# Instantiate the GridSearchCV object\n",
    "grid_search = GridSearchCV(estimator=rf, param_grid=param_grid, cv=5, n_jobs=-1, verbose=2)\n",
    "\n",
    "# Fit the model\n",
    "grid_search.fit(X_train, y_train)\n",
    "\n",
    "# Get the best hyperparameters\n",
    "best_params = grid_search.best_params_\n",
    "best_params"
   ]
  },
  {
   "cell_type": "code",
   "execution_count": 87,
   "metadata": {},
   "outputs": [
    {
     "data": {
      "text/plain": [
       "0.8025939347701697"
      ]
     },
     "execution_count": 87,
     "metadata": {},
     "output_type": "execute_result"
    }
   ],
   "source": [
    "# Get the best model\n",
    "best_model = grid_search.best_estimator_\n",
    "\n",
    "# Predict the labels\n",
    "y_pred = best_model.predict(X_test)\n",
    "\n",
    "# Calculate the accuracy\n",
    "accuracy = accuracy_score(y_test, y_pred)\n",
    "accuracy"
   ]
  },
  {
   "cell_type": "code",
   "execution_count": 88,
   "metadata": {},
   "outputs": [
    {
     "data": {
      "text/plain": [
       "array([[6628,  691],\n",
       "       [1379, 1788]])"
      ]
     },
     "execution_count": 88,
     "metadata": {},
     "output_type": "execute_result"
    }
   ],
   "source": [
    "# Calculate the confusion matrix\n",
    "conf_matrix = confusion_matrix(y_test, y_pred)\n",
    "conf_matrix"
   ]
  },
  {
   "cell_type": "code",
   "execution_count": 89,
   "metadata": {},
   "outputs": [
    {
     "name": "stdout",
     "output_type": "stream",
     "text": [
      "              precision    recall  f1-score   support\n",
      "\n",
      "           0       0.83      0.91      0.86      7319\n",
      "           1       0.72      0.56      0.63      3167\n",
      "\n",
      "    accuracy                           0.80     10486\n",
      "   macro avg       0.77      0.74      0.75     10486\n",
      "weighted avg       0.80      0.80      0.79     10486\n",
      "\n"
     ]
    }
   ],
   "source": [
    "# Generate the classification report\n",
    "class_report = classification_report(y_test, y_pred)\n",
    "print(class_report)"
   ]
  },
  {
   "cell_type": "code",
   "execution_count": 90,
   "metadata": {},
   "outputs": [
    {
     "data": {
      "text/plain": [
       "np.float64(0.735080172704295)"
      ]
     },
     "execution_count": 90,
     "metadata": {},
     "output_type": "execute_result"
    }
   ],
   "source": [
    "# Calculate the ROC AUC score\n",
    "roc_auc = roc_auc_score(y_test, y_pred)\n",
    "roc_auc"
   ]
  },
  {
   "cell_type": "code",
   "execution_count": 91,
   "metadata": {},
   "outputs": [
    {
     "data": {
      "image/png": "[encoded data removed]",
      "text/plain": [
       "<Figure size 1000x600 with 1 Axes>"
      ]
     },
     "metadata": {},
     "output_type": "display_data"
    }
   ],
   "source": [
    "# Plot the ROC curve\n",
    "plt.figure(figsize=(10, 6))\n",
    "plt.plot(fpr, tpr, color='orange', label='ROC')\n",
    "plt.plot([0, 1], [0, 1], color='darkblue', linestyle='--')\n",
    "plt.xlabel('False Positive Rate')\n",
    "plt.ylabel('True Positive Rate')\n",
    "plt.title('Receiver Operating Characteristic (ROC) Curve')\n",
    "plt.legend()\n",
    "plt.show()"
   ]
  },
  {
   "cell_type": "code",
   "execution_count": 92,
   "metadata": {},
   "outputs": [
    {
     "data": {
      "text/plain": [
       "array([0.73279249, 0.72245944, 0.90836892, 0.94150299, 0.93953886])"
      ]
     },
     "execution_count": 92,
     "metadata": {},
     "output_type": "execute_result"
    }
   ],
   "source": [
    "# Perform 5-fold cross validation\n",
    "cv_scores = cross_val_score(best_model, X_train, y_train, cv=5, scoring='accuracy')\n",
    "cv_scores"
   ]
  },
  {
   "cell_type": "code",
   "execution_count": 93,
   "metadata": {},
   "outputs": [
    {
     "data": {
      "text/plain": [
       "(np.float64(0.8489325362937661), np.float64(0.09979522381316641))"
      ]
     },
     "execution_count": 93,
     "metadata": {},
     "output_type": "execute_result"
    }
   ],
   "source": [
    "# Calculate the mean accuracy\n",
    "cv_mean = cv_scores.mean()\n",
    "\n",
    "# Calculate the standard deviation of accuracy\n",
    "cv_std = cv_scores.std()\n",
    "\n",
    "cv_mean, cv_std"
   ]
  }
 ],
 "metadata": {
  "kernelspec": {
   "display_name": ".venv",
   "language": "python",
   "name": "python3"
  },
  "language_info": {
   "codemirror_mode": {
    "name": "ipython",
    "version": 3
   },
   "file_extension": ".py",
   "mimetype": "text/x-python",
   "name": "python",
   "nbconvert_exporter": "python",
   "pygments_lexer": "ipython3",
   "version": "3.13.1"
  }
 },
 "nbformat": 4,
 "nbformat_minor": 2
}
