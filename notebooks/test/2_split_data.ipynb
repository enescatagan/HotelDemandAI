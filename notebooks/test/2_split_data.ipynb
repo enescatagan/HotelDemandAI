{
 "cells": [
  {
   "cell_type": "code",
   "execution_count": 1,
   "metadata": {},
   "outputs": [],
   "source": [
    "# Import Libraries\n",
    "import numpy as np\n",
    "import pandas as pd\n",
    "import matplotlib.pyplot as plt\n",
    "\n",
    "%matplotlib inline\n",
    "pd.set_option('display.max_columns', None)\n",
    "pd.set_option('display.width', None)"
   ]
  },
  {
   "cell_type": "code",
   "execution_count": 2,
   "metadata": {},
   "outputs": [],
   "source": [
    "# load data\n",
    "df = pd.read_csv('../../data/H2.csv')"
   ]
  },
  {
   "cell_type": "markdown",
   "metadata": {},
   "source": [
    "First I want to create a split for the 2'nd solution; ***Booking Cancellation Prediction***\n",
    "\n",
    "* Target variable is `IsCanceled`, *stratified splitting* can be used to preserve the proportions of both classes (cancelled-1- and uncancelled-0- reservations) in the train and test sets."
   ]
  },
  {
   "cell_type": "code",
   "execution_count": 3,
   "metadata": {},
   "outputs": [
    {
     "data": {
      "text/plain": [
       "IsCanceled\n",
       "0    0.58273\n",
       "1    0.41727\n",
       "Name: proportion, dtype: float64"
      ]
     },
     "execution_count": 3,
     "metadata": {},
     "output_type": "execute_result"
    }
   ],
   "source": [
    "# Analyze the class distribution of the target variable (IsCanceled)\n",
    "df['IsCanceled'].value_counts(normalize=True)"
   ]
  },
  {
   "cell_type": "markdown",
   "metadata": {},
   "source": [
    "- 0 (Uncancelled reservations): 58.27%\n",
    "- 1 (Cancelled reservations): 41.73%\n",
    "\n",
    "This rate is a pretty good start for a balanced data set, but using stratified splitting will still ensure that this distribution is preserved in both the train and test sets."
   ]
  },
  {
   "cell_type": "code",
   "execution_count": null,
   "metadata": {},
   "outputs": [
    {
     "data": {
      "text/plain": [
       "(63464,\n",
       " 15866,\n",
       " IsCanceled\n",
       " 0    0.582724\n",
       " 1    0.417276\n",
       " Name: proportion, dtype: float64,\n",
       " IsCanceled\n",
       " 0    0.582756\n",
       " 1    0.417244\n",
       " Name: proportion, dtype: float64)"
      ]
     },
     "execution_count": 5,
     "metadata": {},
     "output_type": "execute_result"
    }
   ],
   "source": [
    "from sklearn.model_selection import train_test_split\n",
    "\n",
    "# Stratified splitting into train and test sets (80% train, 20% test)\n",
    "train_data_strat, test_data_strat = train_test_split(\n",
    "    df, \n",
    "    test_size=0.2, \n",
    "    stratify=df['IsCanceled'], \n",
    "    random_state=42\n",
    ")\n",
    "\n",
    "# Check the resulting split sizes and class distribution in both sets\n",
    "train_size = train_data_strat.shape[0]\n",
    "test_size = test_data_strat.shape[0]\n",
    "train_class_distribution = train_data_strat['IsCanceled'].value_counts(normalize=True)\n",
    "test_class_distribution = test_data_strat['IsCanceled'].value_counts(normalize=True)\n",
    "\n",
    "train_size, test_size, train_class_distribution, test_class_distribution\n"
   ]
  },
  {
   "cell_type": "markdown",
   "metadata": {},
   "source": [
    "Split is protected across train and test and rate is okay for ML preparation. "
   ]
  },
  {
   "cell_type": "markdown",
   "metadata": {},
   "source": [
    "For other solutions (***Customer Segmentation***) random sampling is okay."
   ]
  },
  {
   "cell_type": "code",
   "execution_count": 7,
   "metadata": {},
   "outputs": [
    {
     "data": {
      "text/plain": [
       "((63464, 31), (15866, 31))"
      ]
     },
     "execution_count": 7,
     "metadata": {},
     "output_type": "execute_result"
    }
   ],
   "source": [
    "train_data_rnd, test_data_rnd = train_test_split(df, test_size=0.2, random_state=42)\n",
    "\n",
    "train_data_rnd.shape, test_data_rnd.shape"
   ]
  },
  {
   "cell_type": "markdown",
   "metadata": {},
   "source": [
    "The application of ***dynamic pricing*** involves making pricing decisions based on historical data and using those decisions to predict the future. Therefore, it is important to both preserve temporal order and ensure that the model generalizes to future events when separating the data.\n",
    "\n",
    "Since we aim to predict the future based on past data, we should divide the dataset according to date. For example, we can use one date range as a training set and the next range as a test set. This method is the most suitable strategy for a dynamic pricing scenario."
   ]
  },
  {
   "cell_type": "code",
   "execution_count": 9,
   "metadata": {},
   "outputs": [
    {
     "data": {
      "text/plain": [
       "((55215, 31), (24115, 31))"
      ]
     },
     "execution_count": 9,
     "metadata": {},
     "output_type": "execute_result"
    }
   ],
   "source": [
    "# Convert the 'ReservationStatusDate' column to a datetime object\n",
    "df['ReservationStatusDate'] = pd.to_datetime(df['ReservationStatusDate'])\n",
    "\n",
    "# Sort the data by the 'ReservationStatusDate' column\n",
    "data = df.sort_values(by='ReservationStatusDate')\n",
    "\n",
    "# Split the data into train and test sets based on a specific date\n",
    "split_date = '2017-01-01'  # For example, this data\n",
    "train_data_date = data[data['ReservationStatusDate'] < split_date]\n",
    "test_data_date = data[data['ReservationStatusDate'] >= split_date]\n",
    "\n",
    "train_data_date.shape, test_data_date.shape"
   ]
  },
  {
   "cell_type": "code",
   "execution_count": 13,
   "metadata": {},
   "outputs": [
    {
     "data": {
      "text/plain": [
       "(33657   2014-10-17\n",
       " 33763   2014-10-17\n",
       " 33764   2014-10-17\n",
       " 33765   2014-10-17\n",
       " 33766   2014-10-17\n",
       " Name: ReservationStatusDate, dtype: datetime64[ns],\n",
       " 63687   2016-12-31\n",
       " 63691   2016-12-31\n",
       " 63692   2016-12-31\n",
       " 63693   2016-12-31\n",
       " 23176   2016-12-31\n",
       " Name: ReservationStatusDate, dtype: datetime64[ns],\n",
       " 63761   2017-01-01\n",
       " 63760   2017-01-01\n",
       " 25961   2017-01-01\n",
       " 23299   2017-01-01\n",
       " 32982   2017-01-01\n",
       " Name: ReservationStatusDate, dtype: datetime64[ns],\n",
       " 79325   2017-09-06\n",
       " 79328   2017-09-07\n",
       " 79326   2017-09-07\n",
       " 79327   2017-09-07\n",
       " 79329   2017-09-07\n",
       " Name: ReservationStatusDate, dtype: datetime64[ns])"
      ]
     },
     "execution_count": 13,
     "metadata": {},
     "output_type": "execute_result"
    }
   ],
   "source": [
    "train_data_date.head()['ReservationStatusDate'], train_data_date.tail()['ReservationStatusDate'], test_data_date.head()['ReservationStatusDate'], test_data_date.tail()['ReservationStatusDate']"
   ]
  }
 ],
 "metadata": {
  "kernelspec": {
   "display_name": ".venv",
   "language": "python",
   "name": "python3"
  },
  "language_info": {
   "codemirror_mode": {
    "name": "ipython",
    "version": 3
   },
   "file_extension": ".py",
   "mimetype": "text/x-python",
   "name": "python",
   "nbconvert_exporter": "python",
   "pygments_lexer": "ipython3",
   "version": "3.13.1"
  }
 },
 "nbformat": 4,
 "nbformat_minor": 2
}
