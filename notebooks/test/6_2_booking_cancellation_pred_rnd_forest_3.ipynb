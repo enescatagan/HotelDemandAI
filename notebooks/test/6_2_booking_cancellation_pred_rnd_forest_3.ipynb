{
 "cells": [
  {
   "cell_type": "code",
   "execution_count": 60,
   "metadata": {},
   "outputs": [],
   "source": [
    "# Import Libraries\n",
    "import numpy as np\n",
    "import pandas as pd\n",
    "import matplotlib.pyplot as plt\n",
    "import seaborn as sns\n",
    "\n",
    "import warnings\n",
    "warnings.filterwarnings('ignore')\n",
    "\n",
    "%matplotlib inline\n",
    "pd.set_option('display.max_columns', None)\n",
    "pd.set_option('display.width', None)"
   ]
  },
  {
   "cell_type": "code",
   "execution_count": 61,
   "metadata": {},
   "outputs": [],
   "source": [
    "from sklearn.impute import SimpleImputer\n",
    "from sklearn.preprocessing import StandardScaler, OneHotEncoder\n",
    "\n",
    "from imblearn.over_sampling import SMOTE\n",
    "\n",
    "from sklearn.compose import ColumnTransformer\n",
    "from sklearn.pipeline import Pipeline\n",
    "from sklearn.preprocessing import FunctionTransformer\n",
    "\n",
    "from sklearn.ensemble import RandomForestClassifier\n",
    "\n",
    "from sklearn.metrics import accuracy_score\n",
    "from sklearn.metrics import confusion_matrix\n",
    "from sklearn.metrics import classification_report\n",
    "from sklearn.metrics import roc_auc_score\n",
    "from sklearn.metrics import roc_curve\n",
    "from sklearn.model_selection import cross_val_score"
   ]
  },
  {
   "cell_type": "code",
   "execution_count": 62,
   "metadata": {},
   "outputs": [],
   "source": [
    "# load data\n",
    "df = pd.read_csv('../../data/H2.csv')"
   ]
  },
  {
   "cell_type": "code",
   "execution_count": 63,
   "metadata": {},
   "outputs": [],
   "source": [
    "# Handle missing values\n",
    "df[\"Children\"].fillna(0, inplace=True)  # Fill missing 'Children' with 0\n",
    "df[\"Country\"].fillna(\"Unknown\", inplace=True)  # Fill missing 'Country' with 'Unknown'\n",
    "\n",
    "# Drop rows where adults, babies and children are zero at the same time\n",
    "df = df[(df[\"Adults\"] != 0) | (df[\"Babies\"] != 0) | (df[\"Children\"] != 0)]"
   ]
  },
  {
   "cell_type": "code",
   "execution_count": null,
   "metadata": {},
   "outputs": [
    {
     "name": "stdout",
     "output_type": "stream",
     "text": [
      "Total Number of Rows: 79163\n",
      "Total Number of Rows without Duplicates: 53274\n"
     ]
    }
   ],
   "source": [
    "# Drop Duplicate rows\n",
    "print(f\"Total Number of Rows: {len(df)}\")\n",
    "print(f\"Total Number of Rows without Duplicates: {len(df.drop_duplicates())}\")\n",
    "\n",
    "df = df.drop_duplicates()"
   ]
  },
  {
   "cell_type": "code",
   "execution_count": 65,
   "metadata": {},
   "outputs": [
    {
     "name": "stdout",
     "output_type": "stream",
     "text": [
      "LeadTime: 351 outliers removed.\n",
      "ADR: 254 outliers removed.\n"
     ]
    },
    {
     "data": {
      "text/plain": [
       "(52669, 31)"
      ]
     },
     "execution_count": 65,
     "metadata": {},
     "output_type": "execute_result"
    }
   ],
   "source": [
    "# Remove Outliers\n",
    "# Get only numerical data\n",
    "df_num = df.select_dtypes(include=[np.number])\n",
    "# Get only Categorical data\n",
    "df_cat = df.select_dtypes(include=[\"object\"])\n",
    "\n",
    "df_num_out = df_num[[\"LeadTime\", \"ADR\"]]\n",
    "\n",
    "# Outlier Detection Fonksion\n",
    "def detect_outliers_iqr(data, column):\n",
    "    Q1 = data[column].quantile(0.25)\n",
    "    Q3 = data[column].quantile(0.75)\n",
    "    IQR = Q3 - Q1\n",
    "    lower_bound = Q1 - 2.5 * IQR\n",
    "    upper_bound = Q3 + 2.5 * IQR\n",
    "    return data[(data[column] < lower_bound) | (data[column] > upper_bound)]\n",
    "\n",
    "# Remove Outliers\n",
    "def remove_outliers(data, outliers):\n",
    "  return data.drop(outliers.index)\n",
    "\n",
    "for col in df_num_out:\n",
    "  outliers = detect_outliers_iqr(df, col)\n",
    "  df = remove_outliers(df, outliers)\n",
    "  print(f\"{col}: {len(outliers)} outliers removed.\")\n",
    "\n",
    "df.shape"
   ]
  },
  {
   "cell_type": "code",
   "execution_count": 66,
   "metadata": {},
   "outputs": [],
   "source": [
    "# Remove Directly Related columns with label\n",
    "df = df.drop([\"ReservationStatus\", \"ReservationStatusDate\", \"AssignedRoomType\"], axis=1)"
   ]
  },
  {
   "cell_type": "code",
   "execution_count": 67,
   "metadata": {},
   "outputs": [
    {
     "data": {
      "text/plain": [
       "IsCanceled                     1.000000\n",
       "LeadTime                       0.191161\n",
       "TotalOfSpecialRequests         0.161334\n",
       "RequiredCarParkingSpaces       0.125098\n",
       "StaysInWeekNights              0.116383\n",
       "ADR                            0.100196\n",
       "BookingChanges                 0.090958\n",
       "Adults                         0.084656\n",
       "ArrivalDateYear                0.083995\n",
       "IsRepeatedGuest                0.073327\n",
       "StaysInWeekendNights           0.066643\n",
       "PreviousBookingsNotCanceled    0.048569\n",
       "PreviousCancellations          0.039456\n",
       "Children                       0.036668\n",
       "Babies                         0.021196\n",
       "ArrivalDateWeekNumber          0.009831\n",
       "DaysInWaitingList              0.004596\n",
       "ArrivalDateDayOfMonth          0.003705\n",
       "Name: IsCanceled, dtype: float64"
      ]
     },
     "execution_count": 67,
     "metadata": {},
     "output_type": "execute_result"
    }
   ],
   "source": [
    "# Remove Unimportant Variables\n",
    "corr_matrix = df.select_dtypes(include=[np.number]).corr()\n",
    "corr_matrix[\"IsCanceled\"].abs().sort_values(ascending=False)"
   ]
  },
  {
   "cell_type": "code",
   "execution_count": 68,
   "metadata": {},
   "outputs": [],
   "source": [
    "df = df.drop(\n",
    "    [\n",
    "        \"ArrivalDateDayOfMonth\",\n",
    "        \"ArrivalDateWeekNumber\",\n",
    "    ],\n",
    "    axis=1,\n",
    ")"
   ]
  },
  {
   "cell_type": "code",
   "execution_count": 69,
   "metadata": {},
   "outputs": [
    {
     "data": {
      "text/plain": [
       "Region\n",
       "Europe           41174\n",
       "South America     1726\n",
       "North America     1456\n",
       "Asia               484\n",
       "Oceania            264\n",
       "Unknown              3\n",
       "Name: count, dtype: int64"
      ]
     },
     "execution_count": 69,
     "metadata": {},
     "output_type": "execute_result"
    }
   ],
   "source": [
    "# Define a dictionary to map country codes to regions\n",
    "country_to_region = {\n",
    "    \"PRT\": \"Europe\",\n",
    "    \"GBR\": \"Europe\",\n",
    "    \"ESP\": \"Europe\",\n",
    "    \"IRL\": \"Europe\",\n",
    "    \"NLD\": \"Europe\",\n",
    "    \"RUS\": \"Europe\",\n",
    "    \"FRA\": \"Europe\",\n",
    "    \"DEU\": \"Europe\",\n",
    "    \"ITA\": \"Europe\",\n",
    "    \"BEL\": \"Europe\",\n",
    "    \"CHE\": \"Europe\",\n",
    "    \"USA\": \"North America\",\n",
    "    \"CAN\": \"North America\",\n",
    "    \"MEX\": \"North America\",\n",
    "    \"CN\": \"Asia\",\n",
    "    \"BRA\": \"South America\",\n",
    "    \"ARG\": \"South America\",\n",
    "    \"AUS\": \"Oceania\",\n",
    "    \"Unknown\": \"Unknown\",\n",
    "}\n",
    "\n",
    "# Map the country codes to regions\n",
    "df[\"Region\"] = df[\"Country\"].map(country_to_region)\n",
    "\n",
    "# Drop the Country column\n",
    "df.drop(columns=[\"Country\"], inplace=True)\n",
    "\n",
    "df[\"Region\"].value_counts()"
   ]
  },
  {
   "cell_type": "code",
   "execution_count": 70,
   "metadata": {},
   "outputs": [
    {
     "data": {
      "text/plain": [
       "Agent\n",
       "9      28624\n",
       "0       5514\n",
       "7       3287\n",
       "14      3272\n",
       "28      1488\n",
       "       ...  \n",
       "388        1\n",
       "480        1\n",
       "464        1\n",
       "476        1\n",
       "449        1\n",
       "Name: count, Length: 223, dtype: int64"
      ]
     },
     "execution_count": 70,
     "metadata": {},
     "output_type": "execute_result"
    }
   ],
   "source": [
    "# Remove blank spaces from the 'Agent' column\n",
    "df['Agent'] = df['Agent'].str.strip()\n",
    "\n",
    "# Replace 'NULL' values in the 'Agent' column with 0\n",
    "df['Agent'].replace('NULL', 0, inplace=True)\n",
    "\n",
    "# Convert the 'Agent' column to integer\n",
    "df['Agent'] = df['Agent'].astype(int)\n",
    "\n",
    "df['Agent'].value_counts()"
   ]
  },
  {
   "cell_type": "code",
   "execution_count": 71,
   "metadata": {},
   "outputs": [
    {
     "data": {
      "text/plain": [
       "Company\n",
       "0      49908\n",
       "40       845\n",
       "45       237\n",
       "153      205\n",
       "219      131\n",
       "       ...  \n",
       "481        1\n",
       "494        1\n",
       "491        1\n",
       "421        1\n",
       "497        1\n",
       "Name: count, Length: 203, dtype: int64"
      ]
     },
     "execution_count": 71,
     "metadata": {},
     "output_type": "execute_result"
    }
   ],
   "source": [
    "# Remove blank spaces from the 'Agent' column\n",
    "df['Company'] = df['Company'].str.strip()\n",
    "\n",
    "# Replace 'NULL' values in the 'Agent' column with 0\n",
    "df['Company'].replace('NULL', 0, inplace=True)\n",
    "\n",
    "# Convert the 'Agent' column to integer\n",
    "df['Company'] = df['Company'].astype(int)\n",
    "\n",
    "df['Company'].value_counts()"
   ]
  },
  {
   "cell_type": "code",
   "execution_count": 72,
   "metadata": {},
   "outputs": [
    {
     "data": {
      "text/plain": [
       "(42135,\n",
       " 10534,\n",
       " IsCanceled\n",
       " 0    0.700534\n",
       " 1    0.299466\n",
       " Name: proportion, dtype: float64,\n",
       " IsCanceled\n",
       " 0    0.700589\n",
       " 1    0.299411\n",
       " Name: proportion, dtype: float64)"
      ]
     },
     "execution_count": 72,
     "metadata": {},
     "output_type": "execute_result"
    }
   ],
   "source": [
    "from sklearn.model_selection import train_test_split\n",
    "\n",
    "# Split data to features and target\n",
    "X = df.drop(\"IsCanceled\", axis=1)\n",
    "y = df[\"IsCanceled\"]\n",
    "\n",
    "# Stratified splitting into train and test sets (80% train, 20% test)\n",
    "X_train, X_test, y_train, y_test = train_test_split(\n",
    "    X, y, test_size=0.2, stratify=y, random_state=42, shuffle=True\n",
    ")\n",
    "\n",
    "# Check the resulting split sizes and class distribution in both sets\n",
    "train_size = X_train.shape[0]\n",
    "test_size = X_test.shape[0]\n",
    "train_class_distribution = y_train.value_counts(normalize=True)\n",
    "test_class_distribution = y_test.value_counts(normalize=True)\n",
    "\n",
    "train_size, test_size, train_class_distribution, test_class_distribution"
   ]
  },
  {
   "cell_type": "code",
   "execution_count": 24,
   "metadata": {},
   "outputs": [],
   "source": [
    "# Custom transformers for feature engineering\n",
    "def add_group_type(data):\n",
    "    def determine_group_type(row):\n",
    "        if row[\"Adults\"] == 1 and (row[\"Children\"] + row[\"Babies\"] == 0):\n",
    "            return \"Single\"\n",
    "        elif row[\"Adults\"] == 2 and (row[\"Children\"] + row[\"Babies\"] == 0):\n",
    "            return \"Couple\"\n",
    "        elif (row[\"Children\"] + row[\"Babies\"]) > 0:\n",
    "            return \"Family\"\n",
    "        elif row[\"Adults\"] > 2:\n",
    "            return \"Big_Group\"\n",
    "        else:\n",
    "            return \"Other\"\n",
    "\n",
    "    data[\"GroupType\"] = data.apply(determine_group_type, axis=1)\n",
    "    return data\n",
    "\n",
    "\n",
    "def add_booking_urgency(data):\n",
    "    def determine_booking_urgency(lead_time):\n",
    "        if lead_time > 60:\n",
    "            return \"Early_Booking\"\n",
    "        elif 30 <= lead_time <= 60:\n",
    "            return \"Medium_Term_Booking\"\n",
    "        else:\n",
    "            return \"Last_Minute_Booking\"\n",
    "\n",
    "    data[\"BookingUrgency\"] = data[\"LeadTime\"].apply(determine_booking_urgency)\n",
    "    return data\n",
    "\n",
    "\n",
    "def add_high_demand(data):\n",
    "    data[\"HighDemand\"] = data[\"TotalOfSpecialRequests\"].apply(\n",
    "        lambda x: \"High\" if x >= 2 else \"Low\"\n",
    "    )\n",
    "    return data\n",
    "\n",
    "\n",
    "def add_child_ratio(data):\n",
    "    data[\"ChildRatio\"] = (data[\"Children\"] + data[\"Babies\"]) / (\n",
    "        data[\"Adults\"] + data[\"Children\"] + data[\"Babies\"]\n",
    "    )\n",
    "    data[\"ChildRatio\"].fillna(0, inplace=True)\n",
    "    return data\n",
    "\n",
    "\n",
    "def add_waiting_time_category(data):\n",
    "    def determine_waiting_time_category(days):\n",
    "        if days < 7:\n",
    "            return \"Short\"\n",
    "        elif 7 <= days <= 30:\n",
    "            return \"Medium\"\n",
    "        else:\n",
    "            return \"Long\"\n",
    "\n",
    "    data[\"WaitingTimeCategory\"] = data[\"DaysInWaitingList\"].apply(\n",
    "        determine_waiting_time_category\n",
    "    )\n",
    "    return data\n",
    "\n",
    "\n",
    "# Pipeline for feature engineering\n",
    "feature_engineering_pipeline = Pipeline(\n",
    "    steps=[\n",
    "        (\"add_group_type\", FunctionTransformer(add_group_type)),\n",
    "        (\"add_booking_urgency\", FunctionTransformer(add_booking_urgency)),\n",
    "        (\"add_high_demand\", FunctionTransformer(add_high_demand)),\n",
    "        (\"add_child_ratio\", FunctionTransformer(add_child_ratio)),\n",
    "        (\"add_waiting_time_category\", FunctionTransformer(add_waiting_time_category))\n",
    "    ]\n",
    ")\n",
    "\n",
    "# Categoric and Numeric features\n",
    "numerical_features = X_train.select_dtypes(include=['int64', 'float64']).columns\n",
    "categorical_features = X_train.select_dtypes(include=['object', 'category']).columns\n",
    "\n",
    "numeric_transformer = Pipeline(steps=[\n",
    "    ('imputer', SimpleImputer(strategy='median')),\n",
    "    ('scaler', StandardScaler())\n",
    "])\n",
    "\n",
    "categorical_transformer = Pipeline(steps=[\n",
    "    ('imputer', SimpleImputer(strategy='most_frequent')),\n",
    "    ('onehot', OneHotEncoder(handle_unknown='ignore'))\n",
    "])\n",
    "\n",
    "preprocessor = ColumnTransformer(\n",
    "    transformers=[\n",
    "        ('num', numeric_transformer, numerical_features),\n",
    "        ('cat', categorical_transformer, categorical_features)\n",
    "    ]\n",
    ")\n",
    "\n",
    "# Final pipeline with feature engineering, preprocessing\n",
    "final_pipeline = Pipeline(\n",
    "    steps=[\n",
    "        (\"feature_engineering\", feature_engineering_pipeline),\n",
    "        (\"preprocessing\", preprocessor),\n",
    "    ]\n",
    ")"
   ]
  },
  {
   "cell_type": "code",
   "execution_count": 25,
   "metadata": {},
   "outputs": [
    {
     "data": {
      "text/plain": [
       "0.8052022023922537"
      ]
     },
     "execution_count": 25,
     "metadata": {},
     "output_type": "execute_result"
    }
   ],
   "source": [
    "# Instantiate the classifier\n",
    "rf = RandomForestClassifier(random_state=42)\n",
    "\n",
    "rf_pipeline = Pipeline(\n",
    "    steps=[\n",
    "        (\"preprocessing\", final_pipeline),\n",
    "        (\"classifier\", rf),\n",
    "    ]\n",
    ")\n",
    "\n",
    "rf_pipeline.fit(X_train, y_train)\n",
    "\n",
    "# Predict the labels\n",
    "y_pred = rf_pipeline.predict(X_test)\n",
    "\n",
    "# Calculate the accuracy\n",
    "accuracy = accuracy_score(y_test, y_pred)\n",
    "accuracy"
   ]
  },
  {
   "cell_type": "code",
   "execution_count": 26,
   "metadata": {},
   "outputs": [
    {
     "data": {
      "text/plain": [
       "0.8052022023922537"
      ]
     },
     "execution_count": 26,
     "metadata": {},
     "output_type": "execute_result"
    }
   ],
   "source": [
    "# Instantiate the classifier\n",
    "rf = RandomForestClassifier(random_state=42)\n",
    "\n",
    "rf_pipeline = Pipeline(\n",
    "    steps=[\n",
    "        (\"preprocessing\", final_pipeline),\n",
    "        (\"classifier\", rf),\n",
    "    ]\n",
    ")\n",
    "\n",
    "rf_pipeline.fit(X_train, y_train)\n",
    "\n",
    "# Predict the labels\n",
    "y_pred = rf_pipeline.predict(X_test)\n",
    "\n",
    "# Calculate the accuracy\n",
    "accuracy = accuracy_score(y_test, y_pred)\n",
    "accuracy"
   ]
  },
  {
   "cell_type": "code",
   "execution_count": 27,
   "metadata": {},
   "outputs": [
    {
     "data": {
      "text/plain": [
       "array([[6664,  716],\n",
       "       [1336, 1818]])"
      ]
     },
     "execution_count": 27,
     "metadata": {},
     "output_type": "execute_result"
    }
   ],
   "source": [
    "# Calculate the confusion matrix\n",
    "conf_matrix = confusion_matrix(y_test, y_pred)\n",
    "conf_matrix"
   ]
  },
  {
   "cell_type": "code",
   "execution_count": 28,
   "metadata": {},
   "outputs": [
    {
     "name": "stdout",
     "output_type": "stream",
     "text": [
      "              precision    recall  f1-score   support\n",
      "\n",
      "           0       0.83      0.90      0.87      7380\n",
      "           1       0.72      0.58      0.64      3154\n",
      "\n",
      "    accuracy                           0.81     10534\n",
      "   macro avg       0.78      0.74      0.75     10534\n",
      "weighted avg       0.80      0.81      0.80     10534\n",
      "\n"
     ]
    }
   ],
   "source": [
    "# Generate the classification report\n",
    "class_report = classification_report(y_test, y_pred)\n",
    "print(class_report)"
   ]
  },
  {
   "cell_type": "code",
   "execution_count": 29,
   "metadata": {},
   "outputs": [
    {
     "data": {
      "text/plain": [
       "np.float64(0.7396959682976665)"
      ]
     },
     "execution_count": 29,
     "metadata": {},
     "output_type": "execute_result"
    }
   ],
   "source": [
    "# Calculate the ROC AUC score\n",
    "roc_auc = roc_auc_score(y_test, y_pred)\n",
    "roc_auc"
   ]
  },
  {
   "cell_type": "code",
   "execution_count": 30,
   "metadata": {},
   "outputs": [
    {
     "data": {
      "image/png": "[encoded data removed]",
      "text/plain": [
       "<Figure size 1000x600 with 1 Axes>"
      ]
     },
     "metadata": {},
     "output_type": "display_data"
    }
   ],
   "source": [
    "# Calculate the fpr and tpr for all thresholds of the classification\n",
    "fpr, tpr, threshold = roc_curve(y_test, y_pred)\n",
    "\n",
    "# Plot the ROC curve\n",
    "plt.figure(figsize=(10, 6))\n",
    "plt.plot(fpr, tpr, color='orange', label='ROC')\n",
    "plt.plot([0, 1], [0, 1], color='darkblue', linestyle='--')\n",
    "plt.xlabel('False Positive Rate')\n",
    "plt.ylabel('True Positive Rate')\n",
    "plt.title('Receiver Operating Characteristic (ROC) Curve')\n",
    "plt.legend()\n",
    "plt.show()"
   ]
  },
  {
   "cell_type": "code",
   "execution_count": 31,
   "metadata": {},
   "outputs": [
    {
     "name": "stdout",
     "output_type": "stream",
     "text": [
      "Cross Validation Scores:\n",
      "[0.7925715  0.80348879 0.79850481 0.79660615 0.79565682]\n",
      "Mean: 0.7974 +/- Std: 0.0036\n"
     ]
    }
   ],
   "source": [
    "# Perform 5-fold cross validation\n",
    "cv_scores = cross_val_score(rf_pipeline, X_train, y_train, cv=5, scoring='accuracy')\n",
    "\n",
    "# Calculate the mean accuracy\n",
    "cv_mean = cv_scores.mean()\n",
    "cv_mean\n",
    "\n",
    "# Calculate the standard deviation of accuracy\n",
    "cv_std = cv_scores.std()\n",
    "cv_std\n",
    "\n",
    "print(f\"Cross Validation Scores:\\n{cv_scores}\")\n",
    "print(f\"Mean: {cv_mean:.4f} / Std: {cv_std:.4f}\")"
   ]
  }
 ],
 "metadata": {
  "kernelspec": {
   "display_name": ".venv",
   "language": "python",
   "name": "python3"
  },
  "language_info": {
   "codemirror_mode": {
    "name": "ipython",
    "version": 3
   },
   "file_extension": ".py",
   "mimetype": "text/x-python",
   "name": "python",
   "nbconvert_exporter": "python",
   "pygments_lexer": "ipython3",
   "version": "3.13.1"
  }
 },
 "nbformat": 4,
 "nbformat_minor": 2
}
