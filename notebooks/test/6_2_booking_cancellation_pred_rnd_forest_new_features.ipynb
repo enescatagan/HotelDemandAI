{
 "cells": [
  {
   "cell_type": "markdown",
   "metadata": {},
   "source": [
    "**Import Libraries**"
   ]
  },
  {
   "cell_type": "code",
   "execution_count": 122,
   "metadata": {},
   "outputs": [],
   "source": [
    "# Import Libraries\n",
    "import numpy as np\n",
    "import pandas as pd\n",
    "import matplotlib.pyplot as plt\n",
    "import seaborn as sns\n",
    "\n",
    "import warnings\n",
    "warnings.filterwarnings('ignore')\n",
    "\n",
    "%matplotlib inline\n",
    "pd.set_option('display.max_columns', None)\n",
    "pd.set_option('display.width', None)"
   ]
  },
  {
   "cell_type": "code",
   "execution_count": 123,
   "metadata": {},
   "outputs": [],
   "source": [
    "from sklearn.impute import SimpleImputer\n",
    "from sklearn.preprocessing import StandardScaler, OneHotEncoder\n",
    "\n",
    "from imblearn.over_sampling import SMOTE\n",
    "\n",
    "from sklearn.compose import ColumnTransformer\n",
    "from sklearn.pipeline import Pipeline\n",
    "from sklearn.preprocessing import FunctionTransformer\n",
    "\n",
    "from sklearn.ensemble import RandomForestClassifier\n",
    "\n",
    "from sklearn.metrics import accuracy_score\n",
    "from sklearn.metrics import confusion_matrix\n",
    "from sklearn.metrics import classification_report\n",
    "from sklearn.metrics import roc_auc_score\n",
    "from sklearn.metrics import roc_curve\n",
    "from sklearn.model_selection import cross_val_score"
   ]
  },
  {
   "cell_type": "markdown",
   "metadata": {},
   "source": [
    "### 1. Load Data"
   ]
  },
  {
   "cell_type": "code",
   "execution_count": 124,
   "metadata": {},
   "outputs": [],
   "source": [
    "# load data\n",
    "df = pd.read_csv('../../data/H2.csv')"
   ]
  },
  {
   "cell_type": "markdown",
   "metadata": {},
   "source": [
    "### 2. Handle Missing Values"
   ]
  },
  {
   "cell_type": "code",
   "execution_count": 125,
   "metadata": {},
   "outputs": [],
   "source": [
    "# Handle missing values\n",
    "df[\"Children\"].fillna(0, inplace=True)  # Fill missing 'Children' with 0\n",
    "df[\"Country\"].fillna(\"Unknown\", inplace=True)  # Fill missing 'Country' with 'Unknown'\n",
    "\n",
    "# Drop rows where adults, babies and children are zero at the same time\n",
    "df = df[(df[\"Adults\"] != 0) | (df[\"Babies\"] != 0) | (df[\"Children\"] != 0)]"
   ]
  },
  {
   "cell_type": "markdown",
   "metadata": {},
   "source": [
    "### 3. Remove Duplicate Rows"
   ]
  },
  {
   "cell_type": "code",
   "execution_count": 126,
   "metadata": {},
   "outputs": [
    {
     "name": "stdout",
     "output_type": "stream",
     "text": [
      "Total Number of Rows: 79163\n",
      "Total Number of Rows without Duplicates: 53274\n"
     ]
    }
   ],
   "source": [
    "# Drop Duplicate rows\n",
    "print(f\"Total Number of Rows: {len(df)}\")\n",
    "print(f\"Total Number of Rows without Duplicates: {len(df.drop_duplicates())}\")\n",
    "\n",
    "df = df.drop_duplicates()"
   ]
  },
  {
   "cell_type": "markdown",
   "metadata": {},
   "source": [
    "### 4. Feature Organization and Creation"
   ]
  },
  {
   "cell_type": "markdown",
   "metadata": {},
   "source": [
    "##### - Remove Directly Related Features"
   ]
  },
  {
   "cell_type": "code",
   "execution_count": 127,
   "metadata": {},
   "outputs": [],
   "source": [
    "# Remove Directly Related columns with label\n",
    "df = df.drop([\"ReservationStatus\", \"ReservationStatusDate\", \"AssignedRoomType\"], axis=1)"
   ]
  },
  {
   "cell_type": "markdown",
   "metadata": {},
   "source": [
    "##### - Remove Unimportant Variables"
   ]
  },
  {
   "cell_type": "code",
   "execution_count": 128,
   "metadata": {},
   "outputs": [
    {
     "data": {
      "text/plain": [
       "IsCanceled                     1.000000\n",
       "LeadTime                       0.190712\n",
       "TotalOfSpecialRequests         0.164908\n",
       "RequiredCarParkingSpaces       0.125475\n",
       "StaysInWeekNights              0.114249\n",
       "BookingChanges                 0.092143\n",
       "ADR                            0.083836\n",
       "ArrivalDateYear                0.083012\n",
       "Adults                         0.081822\n",
       "IsRepeatedGuest                0.073253\n",
       "StaysInWeekendNights           0.064445\n",
       "PreviousBookingsNotCanceled    0.048540\n",
       "PreviousCancellations          0.039446\n",
       "Children                       0.035015\n",
       "Babies                         0.021490\n",
       "ArrivalDateWeekNumber          0.009155\n",
       "DaysInWaitingList              0.008544\n",
       "ArrivalDateDayOfMonth          0.003940\n",
       "Name: IsCanceled, dtype: float64"
      ]
     },
     "execution_count": 128,
     "metadata": {},
     "output_type": "execute_result"
    }
   ],
   "source": [
    "# Remove Unimportant Variables\n",
    "corr_matrix = df.select_dtypes(include=[np.number]).corr()\n",
    "corr_matrix[\"IsCanceled\"].abs().sort_values(ascending=False)"
   ]
  },
  {
   "cell_type": "code",
   "execution_count": 129,
   "metadata": {},
   "outputs": [],
   "source": [
    "df = df.drop(\n",
    "    [\n",
    "        \"ArrivalDateDayOfMonth\",\n",
    "        \"ArrivalDateWeekNumber\",\n",
    "    ],\n",
    "    axis=1,\n",
    ")"
   ]
  },
  {
   "cell_type": "markdown",
   "metadata": {},
   "source": [
    "##### - Correct and Reorganize some features"
   ]
  },
  {
   "cell_type": "code",
   "execution_count": 130,
   "metadata": {},
   "outputs": [
    {
     "data": {
      "text/plain": [
       "Region\n",
       "Europe           41651\n",
       "South America     1734\n",
       "North America     1481\n",
       "Asia               491\n",
       "Oceania            292\n",
       "Unknown              3\n",
       "Name: count, dtype: int64"
      ]
     },
     "execution_count": 130,
     "metadata": {},
     "output_type": "execute_result"
    }
   ],
   "source": [
    "# Define a dictionary to map country codes to regions\n",
    "country_to_region = {\n",
    "    \"PRT\": \"Europe\",\n",
    "    \"GBR\": \"Europe\",\n",
    "    \"ESP\": \"Europe\",\n",
    "    \"IRL\": \"Europe\",\n",
    "    \"NLD\": \"Europe\",\n",
    "    \"RUS\": \"Europe\",\n",
    "    \"FRA\": \"Europe\",\n",
    "    \"DEU\": \"Europe\",\n",
    "    \"ITA\": \"Europe\",\n",
    "    \"BEL\": \"Europe\",\n",
    "    \"CHE\": \"Europe\",\n",
    "    \"USA\": \"North America\",\n",
    "    \"CAN\": \"North America\",\n",
    "    \"MEX\": \"North America\",\n",
    "    \"CN\": \"Asia\",\n",
    "    \"BRA\": \"South America\",\n",
    "    \"ARG\": \"South America\",\n",
    "    \"AUS\": \"Oceania\",\n",
    "    \"Unknown\": \"Unknown\",\n",
    "}\n",
    "\n",
    "# Map the country codes to regions\n",
    "df[\"Region\"] = df[\"Country\"].map(country_to_region)\n",
    "\n",
    "# Drop the Country column\n",
    "df.drop(columns=[\"Country\"], inplace=True)\n",
    "\n",
    "df[\"Region\"].value_counts()"
   ]
  },
  {
   "cell_type": "code",
   "execution_count": 131,
   "metadata": {},
   "outputs": [
    {
     "data": {
      "text/plain": [
       "Agent\n",
       "9      28715\n",
       "0       5543\n",
       "14      3342\n",
       "7       3294\n",
       "28      1493\n",
       "       ...  \n",
       "388        1\n",
       "480        1\n",
       "464        1\n",
       "476        1\n",
       "449        1\n",
       "Name: count, Length: 224, dtype: int64"
      ]
     },
     "execution_count": 131,
     "metadata": {},
     "output_type": "execute_result"
    }
   ],
   "source": [
    "# Remove blank spaces from the 'Agent' column\n",
    "df['Agent'] = df['Agent'].str.strip()\n",
    "\n",
    "# Replace 'NULL' values in the 'Agent' column with 0\n",
    "df['Agent'].replace('NULL', 0, inplace=True)\n",
    "\n",
    "# Convert the 'Agent' column to integer\n",
    "df['Agent'] = df['Agent'].astype(int)\n",
    "\n",
    "df['Agent'].value_counts()"
   ]
  },
  {
   "cell_type": "code",
   "execution_count": 132,
   "metadata": {},
   "outputs": [
    {
     "data": {
      "text/plain": [
       "Company\n",
       "0      50509\n",
       "40       845\n",
       "45       237\n",
       "153      205\n",
       "219      131\n",
       "       ...  \n",
       "481        1\n",
       "494        1\n",
       "491        1\n",
       "421        1\n",
       "497        1\n",
       "Name: count, Length: 204, dtype: int64"
      ]
     },
     "execution_count": 132,
     "metadata": {},
     "output_type": "execute_result"
    }
   ],
   "source": [
    "# Remove blank spaces from the 'Agent' column\n",
    "df['Company'] = df['Company'].str.strip()\n",
    "\n",
    "# Replace 'NULL' values in the 'Agent' column with 0\n",
    "df['Company'].replace('NULL', 0, inplace=True)\n",
    "\n",
    "# Convert the 'Agent' column to integer\n",
    "df['Company'] = df['Company'].astype(int)\n",
    "\n",
    "df['Company'].value_counts()"
   ]
  },
  {
   "cell_type": "markdown",
   "metadata": {},
   "source": [
    "### 5. Split the Data"
   ]
  },
  {
   "cell_type": "code",
   "execution_count": 133,
   "metadata": {},
   "outputs": [
    {
     "data": {
      "text/plain": [
       "(42619,\n",
       " 10655,\n",
       " IsCanceled\n",
       " 0    0.699007\n",
       " 1    0.300993\n",
       " Name: proportion, dtype: float64,\n",
       " IsCanceled\n",
       " 0    0.699015\n",
       " 1    0.300985\n",
       " Name: proportion, dtype: float64)"
      ]
     },
     "execution_count": 133,
     "metadata": {},
     "output_type": "execute_result"
    }
   ],
   "source": [
    "from sklearn.model_selection import train_test_split\n",
    "\n",
    "# Split data to features and target\n",
    "X = df.drop(\"IsCanceled\", axis=1)\n",
    "y = df[\"IsCanceled\"]\n",
    "\n",
    "# Stratified splitting into train and test sets (80% train, 20% test)\n",
    "X_train, X_test, y_train, y_test = train_test_split(\n",
    "    X, y, test_size=0.2, stratify=y, random_state=42, shuffle=True\n",
    ")\n",
    "\n",
    "# Check the resulting split sizes and class distribution in both sets\n",
    "train_size = X_train.shape[0]\n",
    "test_size = X_test.shape[0]\n",
    "train_class_distribution = y_train.value_counts(normalize=True)\n",
    "test_class_distribution = y_test.value_counts(normalize=True)\n",
    "\n",
    "train_size, test_size, train_class_distribution, test_class_distribution"
   ]
  },
  {
   "cell_type": "markdown",
   "metadata": {},
   "source": [
    "### 7. Create Data Preprocessing Pipeline"
   ]
  },
  {
   "cell_type": "code",
   "execution_count": 134,
   "metadata": {},
   "outputs": [],
   "source": [
    "# Custom transformers for feature engineering\n",
    "def add_group_type(data):\n",
    "    def determine_group_type(row):\n",
    "        if row[\"Adults\"] == 1 and (row[\"Children\"] + row[\"Babies\"] == 0):\n",
    "            return \"Single\"\n",
    "        elif row[\"Adults\"] == 2 and (row[\"Children\"] + row[\"Babies\"] == 0):\n",
    "            return \"Couple\"\n",
    "        elif (row[\"Children\"] + row[\"Babies\"]) > 0:\n",
    "            return \"Family\"\n",
    "        elif row[\"Adults\"] > 2:\n",
    "            return \"Big_Group\"\n",
    "        else:\n",
    "            return \"Other\"\n",
    "\n",
    "    data[\"GroupType\"] = data.apply(determine_group_type, axis=1)\n",
    "    return data\n",
    "\n",
    "\n",
    "def add_booking_urgency(data):\n",
    "    def determine_booking_urgency(lead_time):\n",
    "        if lead_time > 60:\n",
    "            return \"Early_Booking\"\n",
    "        elif 30 <= lead_time <= 60:\n",
    "            return \"Medium_Term_Booking\"\n",
    "        else:\n",
    "            return \"Last_Minute_Booking\"\n",
    "\n",
    "    data[\"BookingUrgency\"] = data[\"LeadTime\"].apply(determine_booking_urgency)\n",
    "    return data\n",
    "\n",
    "\n",
    "def add_high_demand(data):\n",
    "    data[\"HighDemand\"] = data[\"TotalOfSpecialRequests\"].apply(\n",
    "        lambda x: \"High\" if x >= 2 else \"Low\"\n",
    "    )\n",
    "    return data\n",
    "\n",
    "\n",
    "def add_child_ratio(data):\n",
    "    data[\"ChildRatio\"] = (data[\"Children\"] + data[\"Babies\"]) / (\n",
    "        data[\"Adults\"] + data[\"Children\"] + data[\"Babies\"]\n",
    "    )\n",
    "    data[\"ChildRatio\"].fillna(0, inplace=True)\n",
    "    return data\n",
    "\n",
    "\n",
    "def add_waiting_time_category(data):\n",
    "    def determine_waiting_time_category(days):\n",
    "        if days < 7:\n",
    "            return \"Short\"\n",
    "        elif 7 <= days <= 30:\n",
    "            return \"Medium\"\n",
    "        else:\n",
    "            return \"Long\"\n",
    "\n",
    "    data[\"WaitingTimeCategory\"] = data[\"DaysInWaitingList\"].apply(\n",
    "        determine_waiting_time_category\n",
    "    )\n",
    "    return data\n",
    "\n",
    "\n",
    "# Pipeline for feature engineering\n",
    "feature_engineering_pipeline = Pipeline(\n",
    "    steps=[\n",
    "        (\"add_group_type\", FunctionTransformer(add_group_type)),\n",
    "        (\"add_booking_urgency\", FunctionTransformer(add_booking_urgency)),\n",
    "        (\"add_high_demand\", FunctionTransformer(add_high_demand)),\n",
    "        (\"add_child_ratio\", FunctionTransformer(add_child_ratio)),\n",
    "        (\"add_waiting_time_category\", FunctionTransformer(add_waiting_time_category))\n",
    "    ]\n",
    ")\n",
    "\n",
    "# Categoric and Numeric features\n",
    "numerical_features = X_train.select_dtypes(include=['int64', 'float64']).columns\n",
    "categorical_features = X_train.select_dtypes(include=['object', 'category']).columns\n",
    "\n",
    "numeric_transformer = Pipeline(steps=[\n",
    "    ('imputer', SimpleImputer(strategy='median')),\n",
    "    ('scaler', StandardScaler())\n",
    "])\n",
    "\n",
    "categorical_transformer = Pipeline(steps=[\n",
    "    ('imputer', SimpleImputer(strategy='most_frequent')),\n",
    "    ('onehot', OneHotEncoder(handle_unknown='ignore'))\n",
    "])\n",
    "\n",
    "preprocessor = ColumnTransformer(\n",
    "    transformers=[\n",
    "        ('num', numeric_transformer, numerical_features),\n",
    "        ('cat', categorical_transformer, categorical_features)\n",
    "    ]\n",
    ")\n",
    "\n",
    "# Final pipeline with feature engineering, preprocessing and smote\n",
    "final_pipeline = Pipeline(\n",
    "    steps=[\n",
    "        (\"feature_engineering\", feature_engineering_pipeline),\n",
    "        (\"preprocessing\", preprocessor),\n",
    "    ]\n",
    ")"
   ]
  },
  {
   "cell_type": "markdown",
   "metadata": {},
   "source": [
    "### 8. Train Random Forest Model"
   ]
  },
  {
   "cell_type": "markdown",
   "metadata": {},
   "source": [
    "##### - Train"
   ]
  },
  {
   "cell_type": "code",
   "execution_count": 135,
   "metadata": {},
   "outputs": [
    {
     "data": {
      "text/plain": [
       "0.797653683716565"
      ]
     },
     "execution_count": 135,
     "metadata": {},
     "output_type": "execute_result"
    }
   ],
   "source": [
    "# Instantiate the classifier\n",
    "rf = RandomForestClassifier(random_state=42)\n",
    "\n",
    "rf_pipeline = Pipeline(\n",
    "    steps=[\n",
    "        (\"preprocessing\", final_pipeline),\n",
    "        (\"classifier\", rf),\n",
    "    ]\n",
    ")\n",
    "\n",
    "rf_pipeline.fit(X_train, y_train)\n",
    "\n",
    "# Predict the labels\n",
    "y_pred = rf_pipeline.predict(X_test)\n",
    "\n",
    "# Calculate the accuracy\n",
    "accuracy = accuracy_score(y_test, y_pred)\n",
    "accuracy"
   ]
  },
  {
   "cell_type": "markdown",
   "metadata": {},
   "source": [
    "##### - Evaluate"
   ]
  },
  {
   "cell_type": "code",
   "execution_count": 136,
   "metadata": {},
   "outputs": [
    {
     "data": {
      "text/plain": [
       "array([[6728,  720],\n",
       "       [1436, 1771]])"
      ]
     },
     "execution_count": 136,
     "metadata": {},
     "output_type": "execute_result"
    }
   ],
   "source": [
    "# Calculate the confusion matrix\n",
    "conf_matrix = confusion_matrix(y_test, y_pred)\n",
    "conf_matrix"
   ]
  },
  {
   "cell_type": "code",
   "execution_count": 137,
   "metadata": {},
   "outputs": [
    {
     "name": "stdout",
     "output_type": "stream",
     "text": [
      "              precision    recall  f1-score   support\n",
      "\n",
      "           0       0.82      0.90      0.86      7448\n",
      "           1       0.71      0.55      0.62      3207\n",
      "\n",
      "    accuracy                           0.80     10655\n",
      "   macro avg       0.77      0.73      0.74     10655\n",
      "weighted avg       0.79      0.80      0.79     10655\n",
      "\n"
     ]
    }
   ],
   "source": [
    "# Generate the classification report\n",
    "class_report = classification_report(y_test, y_pred)\n",
    "print(class_report)"
   ]
  },
  {
   "cell_type": "code",
   "execution_count": 138,
   "metadata": {},
   "outputs": [
    {
     "data": {
      "text/plain": [
       "np.float64(0.7277796254634984)"
      ]
     },
     "execution_count": 138,
     "metadata": {},
     "output_type": "execute_result"
    }
   ],
   "source": [
    "# Calculate the ROC AUC score\n",
    "roc_auc = roc_auc_score(y_test, y_pred)\n",
    "roc_auc"
   ]
  },
  {
   "cell_type": "code",
   "execution_count": 146,
   "metadata": {},
   "outputs": [
    {
     "data": {
      "image/png": "[encoded data removed]",
      "text/plain": [
       "<Figure size 1000x600 with 1 Axes>"
      ]
     },
     "metadata": {},
     "output_type": "display_data"
    }
   ],
   "source": [
    "# Calculate the fpr and tpr for all thresholds of the classification\n",
    "fpr, tpr, threshold = roc_curve(y_test, y_pred)\n",
    "\n",
    "# Plot the ROC curve\n",
    "plt.figure(figsize=(10, 6))\n",
    "plt.plot(fpr, tpr, color='orange', label='ROC')\n",
    "plt.plot([0, 1], [0, 1], color='darkblue', linestyle='--')\n",
    "plt.xlabel('False Positive Rate')\n",
    "plt.ylabel('True Positive Rate')\n",
    "plt.title('Receiver Operating Characteristic (ROC) Curve')\n",
    "plt.legend()\n",
    "plt.show()"
   ]
  },
  {
   "cell_type": "code",
   "execution_count": 140,
   "metadata": {},
   "outputs": [
    {
     "data": {
      "text/plain": [
       "array([0.7930549 , 0.79622243, 0.79845143, 0.79317222, 0.79432125])"
      ]
     },
     "execution_count": 140,
     "metadata": {},
     "output_type": "execute_result"
    }
   ],
   "source": [
    "# Perform 5-fold cross validation\n",
    "cv_scores = cross_val_score(rf_pipeline, X_train, y_train, cv=5, scoring='accuracy')\n",
    "cv_scores"
   ]
  },
  {
   "cell_type": "code",
   "execution_count": 141,
   "metadata": {},
   "outputs": [
    {
     "data": {
      "text/plain": [
       "np.float64(0.7950444467679115)"
      ]
     },
     "execution_count": 141,
     "metadata": {},
     "output_type": "execute_result"
    }
   ],
   "source": [
    "# Calculate the mean accuracy\n",
    "cv_mean = cv_scores.mean()\n",
    "cv_mean"
   ]
  },
  {
   "cell_type": "code",
   "execution_count": 142,
   "metadata": {},
   "outputs": [
    {
     "data": {
      "text/plain": [
       "np.float64(0.0020484980473269624)"
      ]
     },
     "execution_count": 142,
     "metadata": {},
     "output_type": "execute_result"
    }
   ],
   "source": [
    "# Calculate the standard deviation of accuracy\n",
    "cv_std = cv_scores.std()\n",
    "cv_std"
   ]
  },
  {
   "cell_type": "markdown",
   "metadata": {},
   "source": [
    "---"
   ]
  },
  {
   "cell_type": "markdown",
   "metadata": {},
   "source": [
    "Let's use Smote within and see what'll happen"
   ]
  },
  {
   "cell_type": "code",
   "execution_count": 145,
   "metadata": {},
   "outputs": [
    {
     "name": "stdout",
     "output_type": "stream",
     "text": [
      "Accuracy: 0.7959643359924918\n",
      "CV Scores: [0.78742374 0.79446269 0.7952839  0.78789301 0.78892409]\n",
      "Mean CV Accuracy: 0.7907974876604356\n"
     ]
    }
   ],
   "source": [
    "from sklearn.pipeline import Pipeline\n",
    "from imblearn.pipeline import Pipeline as ImbPipeline\n",
    "\n",
    "# Feature engineering adımları (düzgün bir şekilde entegre edildi)\n",
    "def feature_engineering(data):\n",
    "    data = add_group_type(data)\n",
    "    data = add_booking_urgency(data)\n",
    "    data = add_high_demand(data)\n",
    "    data = add_child_ratio(data)\n",
    "    data = add_waiting_time_category(data)\n",
    "    return data\n",
    "\n",
    "# Preprocessing adımları\n",
    "numerical_features = X_train.select_dtypes(include=['int64', 'float64']).columns\n",
    "categorical_features = X_train.select_dtypes(include=['object', 'category']).columns\n",
    "\n",
    "numeric_transformer = Pipeline(steps=[\n",
    "    ('imputer', SimpleImputer(strategy='median')),\n",
    "    ('scaler', StandardScaler())\n",
    "])\n",
    "\n",
    "categorical_transformer = Pipeline(steps=[\n",
    "    ('imputer', SimpleImputer(strategy='most_frequent')),\n",
    "    ('onehot', OneHotEncoder(handle_unknown='ignore'))\n",
    "])\n",
    "\n",
    "preprocessor = ColumnTransformer(\n",
    "    transformers=[\n",
    "        ('num', numeric_transformer, numerical_features),\n",
    "        ('cat', categorical_transformer, categorical_features)\n",
    "    ]\n",
    ")\n",
    "\n",
    "# Nihai Pipeline (feature engineering ve preprocessing ayrı)\n",
    "rf_pipeline_with_smote = ImbPipeline(\n",
    "    steps=[\n",
    "        (\"feature_engineering\", FunctionTransformer(feature_engineering, validate=False)),  # Feature engineering fonksiyonu\n",
    "        (\"preprocessing\", preprocessor),  # Preprocessing adımı\n",
    "        (\"smote\", SMOTE(random_state=42)),  # SMOTE\n",
    "        (\"classifier\", RandomForestClassifier(random_state=42)),  # Model\n",
    "    ]\n",
    ")\n",
    "\n",
    "# Modeli eğit\n",
    "rf_pipeline_with_smote.fit(X_train, y_train)\n",
    "\n",
    "# Tahmin yap\n",
    "y_pred = rf_pipeline_with_smote.predict(X_test)\n",
    "\n",
    "# Doğruluk\n",
    "accuracy = accuracy_score(y_test, y_pred)\n",
    "print(f\"Accuracy: {accuracy}\")\n",
    "\n",
    "# Cross-validation\n",
    "cv_scores = cross_val_score(rf_pipeline_with_smote, X_train, y_train, cv=5, scoring='accuracy')\n",
    "print(f\"CV Scores: {cv_scores}\")\n",
    "print(f\"Mean CV Accuracy: {cv_scores.mean()}\")"
   ]
  }
 ],
 "metadata": {
  "kernelspec": {
   "display_name": ".venv",
   "language": "python",
   "name": "python3"
  },
  "language_info": {
   "codemirror_mode": {
    "name": "ipython",
    "version": 3
   },
   "file_extension": ".py",
   "mimetype": "text/x-python",
   "name": "python",
   "nbconvert_exporter": "python",
   "pygments_lexer": "ipython3",
   "version": "3.13.1"
  }
 },
 "nbformat": 4,
 "nbformat_minor": 2
}
