{
 "cells": [
  {
   "cell_type": "code",
   "execution_count": 1,
   "metadata": {},
   "outputs": [],
   "source": [
    "# Import Libraries\n",
    "import numpy as np\n",
    "import pandas as pd\n",
    "import matplotlib.pyplot as plt\n",
    "import seaborn as sns\n",
    "\n",
    "%matplotlib inline\n",
    "pd.set_option('display.max_columns', None)\n",
    "pd.set_option('display.width', None)"
   ]
  },
  {
   "cell_type": "code",
   "execution_count": 2,
   "metadata": {},
   "outputs": [],
   "source": [
    "# load data\n",
    "df = pd.read_csv('../../data/H2.csv')"
   ]
  },
  {
   "cell_type": "markdown",
   "metadata": {},
   "source": [
    "We saw some NULL values in the columns `Agent` and `Company`.<br>However these *NULL* values presented as one of the categories. This should not be considered a missing value, but rather as “not applicable”.<br>**For example,** if a booking “Agent” is defined as “NULL” it means that the booking did not came from a travel agent."
   ]
  },
  {
   "cell_type": "code",
   "execution_count": 4,
   "metadata": {},
   "outputs": [
    {
     "data": {
      "text/html": [
       "<div>\n",
       "<style scoped>\n",
       "    .dataframe tbody tr th:only-of-type {\n",
       "        vertical-align: middle;\n",
       "    }\n",
       "\n",
       "    .dataframe tbody tr th {\n",
       "        vertical-align: top;\n",
       "    }\n",
       "\n",
       "    .dataframe thead th {\n",
       "        text-align: right;\n",
       "    }\n",
       "</style>\n",
       "<table border=\"1\" class=\"dataframe\">\n",
       "  <thead>\n",
       "    <tr style=\"text-align: right;\">\n",
       "      <th></th>\n",
       "      <th>Missing Values</th>\n",
       "      <th>Percentage (%)</th>\n",
       "    </tr>\n",
       "  </thead>\n",
       "  <tbody>\n",
       "    <tr>\n",
       "      <th>Country</th>\n",
       "      <td>24</td>\n",
       "      <td>0.030253</td>\n",
       "    </tr>\n",
       "    <tr>\n",
       "      <th>Children</th>\n",
       "      <td>4</td>\n",
       "      <td>0.005042</td>\n",
       "    </tr>\n",
       "  </tbody>\n",
       "</table>\n",
       "</div>"
      ],
      "text/plain": [
       "          Missing Values  Percentage (%)\n",
       "Country               24        0.030253\n",
       "Children               4        0.005042"
      ]
     },
     "execution_count": 4,
     "metadata": {},
     "output_type": "execute_result"
    }
   ],
   "source": [
    "# Missing Value Analysis\n",
    "missing_values = df.isnull().sum()\n",
    "missing_percentage = (missing_values / len(df)) * 100\n",
    "\n",
    "# Missing Value Report\n",
    "missing_report = pd.DataFrame({\n",
    "    \"Missing Values\": missing_values,\n",
    "    \"Percentage (%)\": missing_percentage\n",
    "}).sort_values(by=\"Missing Values\", ascending=False)\n",
    "\n",
    "missing_report[missing_report[\"Missing Values\"] > 0]"
   ]
  },
  {
   "cell_type": "markdown",
   "metadata": {},
   "source": [
    "- `Children`: We can fill in missing values ​​with 0 (no children).\n",
    "- `Country`: The \"Unknown\" category can be added for missing country information."
   ]
  },
  {
   "cell_type": "code",
   "execution_count": 9,
   "metadata": {},
   "outputs": [
    {
     "data": {
      "text/plain": [
       "Series([], dtype: int64)"
      ]
     },
     "execution_count": 9,
     "metadata": {},
     "output_type": "execute_result"
    }
   ],
   "source": [
    "# Handle missing values\n",
    "df['Children'].fillna(0, inplace=True)  # Fill missing 'Children' with 0\n",
    "df['Country'].fillna('Unknown', inplace=True)  # Fill missing 'Country' with 'Unknown'\n",
    "\n",
    "# Verify there are no missing values left\n",
    "missing_values_after = df.isnull().sum()\n",
    "missing_values_after[missing_values_after > 0]\n"
   ]
  },
  {
   "cell_type": "markdown",
   "metadata": {},
   "source": [
    "In order for a room to be reserved, one of the values ​​of adult, children or baby must be different from 0.\n",
    "- If there is a field that is given as 0 for all three, let's delete it."
   ]
  },
  {
   "cell_type": "code",
   "execution_count": 13,
   "metadata": {},
   "outputs": [
    {
     "name": "stdout",
     "output_type": "stream",
     "text": [
      "167\n"
     ]
    }
   ],
   "source": [
    "# adults, babies and children cant be zero at same time\n",
    "print(df[(df['Adults'] == 0) & (df['Babies'] == 0) & (df['Children'] == 0)].shape[0])   # 159 rows\n",
    "\n",
    "# Drop rows where adults, babies and children are zero at the same time\n",
    "df_clean = df[(df['Adults'] != 0) | (df['Babies'] != 0) | (df['Children'] != 0)] "
   ]
  }
 ],
 "metadata": {
  "kernelspec": {
   "display_name": ".venv",
   "language": "python",
   "name": "python3"
  },
  "language_info": {
   "codemirror_mode": {
    "name": "ipython",
    "version": 3
   },
   "file_extension": ".py",
   "mimetype": "text/x-python",
   "name": "python",
   "nbconvert_exporter": "python",
   "pygments_lexer": "ipython3",
   "version": "3.13.1"
  }
 },
 "nbformat": 4,
 "nbformat_minor": 2
}
