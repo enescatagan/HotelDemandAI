{
 "cells": [
  {
   "cell_type": "code",
   "execution_count": 61,
   "metadata": {},
   "outputs": [],
   "source": [
    "# Import Libraries\n",
    "import numpy as np\n",
    "import pandas as pd\n",
    "\n",
    "import warnings\n",
    "warnings.filterwarnings('ignore')\n",
    "\n",
    "%matplotlib inline\n",
    "pd.set_option('display.max_columns', None)\n",
    "pd.set_option('display.width', None)"
   ]
  },
  {
   "cell_type": "markdown",
   "metadata": {},
   "source": [
    "#### 1. Load Data"
   ]
  },
  {
   "cell_type": "code",
   "execution_count": 62,
   "metadata": {},
   "outputs": [],
   "source": [
    "# load data\n",
    "df = pd.read_csv('../../data/H2.csv')"
   ]
  },
  {
   "cell_type": "markdown",
   "metadata": {},
   "source": [
    "#### 2. Handle Missing Values"
   ]
  },
  {
   "cell_type": "code",
   "execution_count": 63,
   "metadata": {},
   "outputs": [
    {
     "data": {
      "text/plain": [
       "Children     4\n",
       "Country     24\n",
       "dtype: int64"
      ]
     },
     "execution_count": 63,
     "metadata": {},
     "output_type": "execute_result"
    }
   ],
   "source": [
    "# Check for missing values\n",
    "null_columns = df.columns[df.isnull().any()]\n",
    "null_counts = df[null_columns].isnull().sum()\n",
    "null_counts"
   ]
  },
  {
   "cell_type": "code",
   "execution_count": 64,
   "metadata": {},
   "outputs": [],
   "source": [
    "# Drop rows with null values in 'Children' and 'Country' columns\n",
    "df = df.dropna(subset=['Children', 'Country'])"
   ]
  },
  {
   "cell_type": "code",
   "execution_count": 65,
   "metadata": {},
   "outputs": [],
   "source": [
    "# Drop rows where adults, babies and children are zero at the same time\n",
    "df = df[(df[\"Adults\"] != 0) | (df[\"Babies\"] != 0) | (df[\"Children\"] != 0)]"
   ]
  },
  {
   "cell_type": "code",
   "execution_count": 66,
   "metadata": {},
   "outputs": [
    {
     "data": {
      "text/plain": [
       "np.False_"
      ]
     },
     "execution_count": 66,
     "metadata": {},
     "output_type": "execute_result"
    }
   ],
   "source": [
    "# Check if any missing values left in the dataset\n",
    "df.isnull().sum().any()"
   ]
  },
  {
   "cell_type": "markdown",
   "metadata": {},
   "source": [
    "#### 3. Remove Duplicates"
   ]
  },
  {
   "cell_type": "code",
   "execution_count": 67,
   "metadata": {},
   "outputs": [
    {
     "name": "stdout",
     "output_type": "stream",
     "text": [
      "Total Number of Duplicate Rows: 25876\n"
     ]
    }
   ],
   "source": [
    "# Check for Duplicate rows\n",
    "print(f\"Total Number of Duplicate Rows: {len(df) - len(df.drop_duplicates())}\")"
   ]
  },
  {
   "cell_type": "code",
   "execution_count": 68,
   "metadata": {},
   "outputs": [],
   "source": [
    "# Remove Duplicate Rows\n",
    "df = df.drop_duplicates()"
   ]
  },
  {
   "cell_type": "markdown",
   "metadata": {},
   "source": [
    "#### 4. Edit some of the Columns"
   ]
  },
  {
   "cell_type": "code",
   "execution_count": 69,
   "metadata": {},
   "outputs": [],
   "source": [
    "# Create function for splitting Data\n",
    "def split_columns(df):\n",
    "    categorical_columns = df.select_dtypes(exclude=[np.number]).columns\n",
    "    numerical_columns = df.select_dtypes(include=[np.number]).columns\n",
    "    \n",
    "    return categorical_columns, numerical_columns"
   ]
  },
  {
   "cell_type": "code",
   "execution_count": 70,
   "metadata": {},
   "outputs": [],
   "source": [
    "# Split dataset as categorical and numerical types\n",
    "categorical_columns, numerical_columns = split_columns(df)"
   ]
  },
  {
   "cell_type": "code",
   "execution_count": 71,
   "metadata": {},
   "outputs": [],
   "source": [
    "# Remove leading and trailing spaces from all categorical columns, if any\n",
    "for col in categorical_columns:\n",
    "    df[col] = df[col].str.strip()"
   ]
  },
  {
   "cell_type": "code",
   "execution_count": 72,
   "metadata": {},
   "outputs": [],
   "source": [
    "# Convert 'Children' column from float to int\n",
    "df['Children'] = df['Children'].astype(int)"
   ]
  },
  {
   "cell_type": "code",
   "execution_count": 73,
   "metadata": {},
   "outputs": [],
   "source": [
    "# Correct the wrong type in 'Agent' and 'Company' columns\n",
    "# Replace 'NULL' values with 0\n",
    "replace_null = lambda col: df[col].replace(\"NULL\", 0)\n",
    "# Convert the column to integer\n",
    "convert_to_int = lambda col: df[col].astype(int)\n",
    "\n",
    "# Correct the 'Agent' column\n",
    "df[\"Agent\"] = replace_null(\"Agent\")\n",
    "df[\"Agent\"] = convert_to_int(\"Agent\")\n",
    "\n",
    "# Correct the 'Company' column\n",
    "df[\"Company\"] = replace_null(\"Company\")\n",
    "df[\"Company\"] = convert_to_int(\"Company\")"
   ]
  },
  {
   "cell_type": "markdown",
   "metadata": {},
   "source": [
    "#### 5. Remove Unnecessary Columns"
   ]
  },
  {
   "cell_type": "code",
   "execution_count": 74,
   "metadata": {},
   "outputs": [],
   "source": [
    "# Drop the Country column\n",
    "df.drop(columns=[\"Country\"], inplace=True)"
   ]
  },
  {
   "cell_type": "markdown",
   "metadata": {},
   "source": [
    "#### 6. Some Feature Extraction"
   ]
  },
  {
   "cell_type": "code",
   "execution_count": 75,
   "metadata": {},
   "outputs": [],
   "source": [
    "# Create Features from 'ReservationStatusDate' column\n",
    "df['ReservationStatusDate'] = pd.to_datetime(df['ReservationStatusDate'])\n",
    "\n",
    "df['ReservationStatusYear'] = df['ReservationStatusDate'].dt.year\n",
    "df['ReservationStatusMonth'] = df['ReservationStatusDate'].dt.month\n",
    "df['ReservationStatusDay'] = df['ReservationStatusDate'].dt.day\n",
    "\n",
    "df.drop(['ReservationStatusDate'] , axis = 1, inplace = True)"
   ]
  },
  {
   "cell_type": "markdown",
   "metadata": {},
   "source": [
    "#### 7. Remove Rare Categories"
   ]
  },
  {
   "cell_type": "code",
   "execution_count": 76,
   "metadata": {},
   "outputs": [],
   "source": [
    "# Remove rare categories\n",
    "def remove_rare_categories(df, categorical_cols, min_count=10):\n",
    "    \"\"\"\n",
    "    In categorical columns, it deletes categories that are below a certain threshold value.\n",
    "        Args:\n",
    "            df: Pandas DataFrame\n",
    "            categorical_cols: List of categorical columns\n",
    "            min_count: Minimum number of observations for a category to remain\n",
    "    \"\"\"\n",
    "\n",
    "    for col in categorical_cols:\n",
    "        value_counts = df[col].value_counts()\n",
    "        common_categories = value_counts[value_counts >= min_count].index\n",
    "        df = df[df[col].isin(common_categories)]\n",
    "    return df\n",
    "\n",
    "\n",
    "cat_col, _ = split_columns(df)\n",
    "\n",
    "df = remove_rare_categories(df, cat_col, min_count=10)"
   ]
  },
  {
   "cell_type": "markdown",
   "metadata": {},
   "source": [
    "#### 8. Feature Transformation"
   ]
  },
  {
   "cell_type": "code",
   "execution_count": 77,
   "metadata": {},
   "outputs": [
    {
     "name": "stdout",
     "output_type": "stream",
     "text": [
      "ArrivalDateMonth: 12 unique values\n",
      "Meal: 4 unique values\n",
      "MarketSegment: 7 unique values\n",
      "DistributionChannel: 4 unique values\n",
      "ReservedRoomType: 7 unique values\n",
      "AssignedRoomType: 8 unique values\n",
      "DepositType: 3 unique values\n",
      "CustomerType: 4 unique values\n",
      "ReservationStatus: 3 unique values\n"
     ]
    }
   ],
   "source": [
    "# Check how many categories categorical features have, we wil encode accordingly\n",
    "categorical_columns, numerical_columns = split_columns(df)\n",
    "\n",
    "# Print the categorical columns and their unique value counts\n",
    "for col in categorical_columns:\n",
    "    print(f\"{col}: {df[col].nunique()} unique values\")"
   ]
  },
  {
   "cell_type": "code",
   "execution_count": 78,
   "metadata": {},
   "outputs": [],
   "source": [
    "# Map the months to their corresponding numerical values\n",
    "month_mapping = {\n",
    "    \"January\": 0,\n",
    "    \"February\": 1,\n",
    "    \"March\": 2,\n",
    "    \"April\": 3,\n",
    "    \"May\": 4,\n",
    "    \"June\": 5,\n",
    "    \"July\": 6,\n",
    "    \"August\": 7,\n",
    "    \"September\": 8,\n",
    "    \"October\": 9,\n",
    "    \"November\": 10,\n",
    "    \"December\": 11,\n",
    "}\n",
    "\n",
    "# Apply the mapping to the 'ArrivalDateMonth' column\n",
    "df[\"ArrivalDateMonth\"] = df[\"ArrivalDateMonth\"].map(month_mapping)"
   ]
  },
  {
   "cell_type": "code",
   "execution_count": 79,
   "metadata": {},
   "outputs": [
    {
     "data": {
      "text/plain": [
       "{'Meal': {np.int64(2): 'HB',\n",
       "  np.int64(0): 'BB',\n",
       "  np.int64(3): 'SC',\n",
       "  np.int64(1): 'FB'},\n",
       " 'MarketSegment': {np.int64(5): 'Offline TA/TO',\n",
       "  np.int64(6): 'Online TA',\n",
       "  np.int64(4): 'Groups',\n",
       "  np.int64(1): 'Complementary',\n",
       "  np.int64(3): 'Direct',\n",
       "  np.int64(2): 'Corporate',\n",
       "  np.int64(0): 'Aviation'},\n",
       " 'DistributionChannel': {np.int64(3): 'TA/TO',\n",
       "  np.int64(1): 'Direct',\n",
       "  np.int64(0): 'Corporate',\n",
       "  np.int64(2): 'GDS'},\n",
       " 'ReservedRoomType': {np.int64(0): 'A',\n",
       "  np.int64(1): 'B',\n",
       "  np.int64(3): 'D',\n",
       "  np.int64(5): 'F',\n",
       "  np.int64(4): 'E',\n",
       "  np.int64(6): 'G',\n",
       "  np.int64(2): 'C'},\n",
       " 'AssignedRoomType': {np.int64(0): 'A',\n",
       "  np.int64(1): 'B',\n",
       "  np.int64(5): 'F',\n",
       "  np.int64(3): 'D',\n",
       "  np.int64(6): 'G',\n",
       "  np.int64(4): 'E',\n",
       "  np.int64(7): 'K',\n",
       "  np.int64(2): 'C'},\n",
       " 'DepositType': {np.int64(0): 'No Deposit',\n",
       "  np.int64(1): 'Non Refund',\n",
       "  np.int64(2): 'Refundable'},\n",
       " 'CustomerType': {np.int64(2): 'Transient',\n",
       "  np.int64(3): 'Transient-Party',\n",
       "  np.int64(0): 'Contract',\n",
       "  np.int64(1): 'Group'},\n",
       " 'ReservationStatus': {np.int64(1): 'Check-Out',\n",
       "  np.int64(0): 'Canceled',\n",
       "  np.int64(2): 'No-Show'}}"
      ]
     },
     "execution_count": 79,
     "metadata": {},
     "output_type": "execute_result"
    }
   ],
   "source": [
    "from sklearn.preprocessing import LabelEncoder\n",
    "\n",
    "# List of categorical columns to be encoded\n",
    "categorical_cols_to_encode = [\n",
    "    \"Meal\",\n",
    "    \"MarketSegment\",\n",
    "    \"DistributionChannel\",\n",
    "    \"ReservedRoomType\",\n",
    "    \"AssignedRoomType\",\n",
    "    \"DepositType\",\n",
    "    \"CustomerType\",\n",
    "    \"ReservationStatus\",\n",
    "]\n",
    "\n",
    "# Initialize the LabelEncoder\n",
    "le = LabelEncoder()\n",
    "\n",
    "from sklearn.preprocessing import LabelEncoder\n",
    "\n",
    "# Create a dictionary to store the mappings\n",
    "label_mappings = {}\n",
    "\n",
    "# Encode each categorical column and get the mapping of encoded values to original categories\n",
    "for col in categorical_cols_to_encode:\n",
    "    # fit LabelEncoder with the original data\n",
    "    le.fit(df[col])\n",
    "\n",
    "    # Transform the original data to get the encoded values\n",
    "    encoded_values = le.transform(df[col])\n",
    "\n",
    "    # Assign new encoded values to column\n",
    "    df[col] = encoded_values\n",
    "\n",
    "    # Get the original categories using inverse_transform\n",
    "    original_categories = le.inverse_transform(encoded_values)\n",
    "\n",
    "    # Create a mapping dictionary for the column\n",
    "    label_mappings[col] = dict(zip(encoded_values, original_categories))\n",
    "\n",
    "\n",
    "label_mappings"
   ]
  },
  {
   "cell_type": "code",
   "execution_count": 80,
   "metadata": {},
   "outputs": [
    {
     "data": {
      "text/html": [
       "<div>\n",
       "<style scoped>\n",
       "    .dataframe tbody tr th:only-of-type {\n",
       "        vertical-align: middle;\n",
       "    }\n",
       "\n",
       "    .dataframe tbody tr th {\n",
       "        vertical-align: top;\n",
       "    }\n",
       "\n",
       "    .dataframe thead th {\n",
       "        text-align: right;\n",
       "    }\n",
       "</style>\n",
       "<table border=\"1\" class=\"dataframe\">\n",
       "  <thead>\n",
       "    <tr style=\"text-align: right;\">\n",
       "      <th></th>\n",
       "      <th>IsCanceled</th>\n",
       "      <th>LeadTime</th>\n",
       "      <th>ArrivalDateYear</th>\n",
       "      <th>ArrivalDateMonth</th>\n",
       "      <th>ArrivalDateWeekNumber</th>\n",
       "      <th>ArrivalDateDayOfMonth</th>\n",
       "      <th>StaysInWeekendNights</th>\n",
       "      <th>StaysInWeekNights</th>\n",
       "      <th>Adults</th>\n",
       "      <th>Children</th>\n",
       "      <th>Babies</th>\n",
       "      <th>Meal</th>\n",
       "      <th>MarketSegment</th>\n",
       "      <th>DistributionChannel</th>\n",
       "      <th>IsRepeatedGuest</th>\n",
       "      <th>PreviousCancellations</th>\n",
       "      <th>PreviousBookingsNotCanceled</th>\n",
       "      <th>ReservedRoomType</th>\n",
       "      <th>AssignedRoomType</th>\n",
       "      <th>BookingChanges</th>\n",
       "      <th>DepositType</th>\n",
       "      <th>Agent</th>\n",
       "      <th>Company</th>\n",
       "      <th>DaysInWaitingList</th>\n",
       "      <th>CustomerType</th>\n",
       "      <th>ADR</th>\n",
       "      <th>RequiredCarParkingSpaces</th>\n",
       "      <th>TotalOfSpecialRequests</th>\n",
       "      <th>ReservationStatus</th>\n",
       "      <th>ReservationStatusYear</th>\n",
       "      <th>ReservationStatusMonth</th>\n",
       "      <th>ReservationStatusDay</th>\n",
       "    </tr>\n",
       "  </thead>\n",
       "  <tbody>\n",
       "    <tr>\n",
       "      <th>0</th>\n",
       "      <td>0</td>\n",
       "      <td>6</td>\n",
       "      <td>2015</td>\n",
       "      <td>6</td>\n",
       "      <td>27</td>\n",
       "      <td>1</td>\n",
       "      <td>0</td>\n",
       "      <td>2</td>\n",
       "      <td>1</td>\n",
       "      <td>0</td>\n",
       "      <td>0</td>\n",
       "      <td>2</td>\n",
       "      <td>5</td>\n",
       "      <td>3</td>\n",
       "      <td>0</td>\n",
       "      <td>0</td>\n",
       "      <td>0</td>\n",
       "      <td>0</td>\n",
       "      <td>0</td>\n",
       "      <td>0</td>\n",
       "      <td>0</td>\n",
       "      <td>6</td>\n",
       "      <td>0</td>\n",
       "      <td>0</td>\n",
       "      <td>2</td>\n",
       "      <td>0.0</td>\n",
       "      <td>0</td>\n",
       "      <td>0</td>\n",
       "      <td>1</td>\n",
       "      <td>2015</td>\n",
       "      <td>7</td>\n",
       "      <td>3</td>\n",
       "    </tr>\n",
       "    <tr>\n",
       "      <th>1</th>\n",
       "      <td>1</td>\n",
       "      <td>88</td>\n",
       "      <td>2015</td>\n",
       "      <td>6</td>\n",
       "      <td>27</td>\n",
       "      <td>1</td>\n",
       "      <td>0</td>\n",
       "      <td>4</td>\n",
       "      <td>2</td>\n",
       "      <td>0</td>\n",
       "      <td>0</td>\n",
       "      <td>0</td>\n",
       "      <td>6</td>\n",
       "      <td>3</td>\n",
       "      <td>0</td>\n",
       "      <td>0</td>\n",
       "      <td>0</td>\n",
       "      <td>0</td>\n",
       "      <td>0</td>\n",
       "      <td>0</td>\n",
       "      <td>0</td>\n",
       "      <td>9</td>\n",
       "      <td>0</td>\n",
       "      <td>0</td>\n",
       "      <td>2</td>\n",
       "      <td>76.5</td>\n",
       "      <td>0</td>\n",
       "      <td>1</td>\n",
       "      <td>0</td>\n",
       "      <td>2015</td>\n",
       "      <td>7</td>\n",
       "      <td>1</td>\n",
       "    </tr>\n",
       "    <tr>\n",
       "      <th>2</th>\n",
       "      <td>1</td>\n",
       "      <td>65</td>\n",
       "      <td>2015</td>\n",
       "      <td>6</td>\n",
       "      <td>27</td>\n",
       "      <td>1</td>\n",
       "      <td>0</td>\n",
       "      <td>4</td>\n",
       "      <td>1</td>\n",
       "      <td>0</td>\n",
       "      <td>0</td>\n",
       "      <td>0</td>\n",
       "      <td>6</td>\n",
       "      <td>3</td>\n",
       "      <td>0</td>\n",
       "      <td>0</td>\n",
       "      <td>0</td>\n",
       "      <td>0</td>\n",
       "      <td>0</td>\n",
       "      <td>0</td>\n",
       "      <td>0</td>\n",
       "      <td>9</td>\n",
       "      <td>0</td>\n",
       "      <td>0</td>\n",
       "      <td>2</td>\n",
       "      <td>68.0</td>\n",
       "      <td>0</td>\n",
       "      <td>1</td>\n",
       "      <td>0</td>\n",
       "      <td>2015</td>\n",
       "      <td>4</td>\n",
       "      <td>30</td>\n",
       "    </tr>\n",
       "    <tr>\n",
       "      <th>3</th>\n",
       "      <td>1</td>\n",
       "      <td>92</td>\n",
       "      <td>2015</td>\n",
       "      <td>6</td>\n",
       "      <td>27</td>\n",
       "      <td>1</td>\n",
       "      <td>2</td>\n",
       "      <td>4</td>\n",
       "      <td>2</td>\n",
       "      <td>0</td>\n",
       "      <td>0</td>\n",
       "      <td>0</td>\n",
       "      <td>6</td>\n",
       "      <td>3</td>\n",
       "      <td>0</td>\n",
       "      <td>0</td>\n",
       "      <td>0</td>\n",
       "      <td>0</td>\n",
       "      <td>0</td>\n",
       "      <td>0</td>\n",
       "      <td>0</td>\n",
       "      <td>9</td>\n",
       "      <td>0</td>\n",
       "      <td>0</td>\n",
       "      <td>2</td>\n",
       "      <td>76.5</td>\n",
       "      <td>0</td>\n",
       "      <td>2</td>\n",
       "      <td>0</td>\n",
       "      <td>2015</td>\n",
       "      <td>6</td>\n",
       "      <td>23</td>\n",
       "    </tr>\n",
       "    <tr>\n",
       "      <th>4</th>\n",
       "      <td>1</td>\n",
       "      <td>100</td>\n",
       "      <td>2015</td>\n",
       "      <td>6</td>\n",
       "      <td>27</td>\n",
       "      <td>2</td>\n",
       "      <td>0</td>\n",
       "      <td>2</td>\n",
       "      <td>2</td>\n",
       "      <td>0</td>\n",
       "      <td>0</td>\n",
       "      <td>0</td>\n",
       "      <td>6</td>\n",
       "      <td>3</td>\n",
       "      <td>0</td>\n",
       "      <td>0</td>\n",
       "      <td>0</td>\n",
       "      <td>0</td>\n",
       "      <td>0</td>\n",
       "      <td>0</td>\n",
       "      <td>0</td>\n",
       "      <td>9</td>\n",
       "      <td>0</td>\n",
       "      <td>0</td>\n",
       "      <td>2</td>\n",
       "      <td>76.5</td>\n",
       "      <td>0</td>\n",
       "      <td>1</td>\n",
       "      <td>0</td>\n",
       "      <td>2015</td>\n",
       "      <td>4</td>\n",
       "      <td>2</td>\n",
       "    </tr>\n",
       "  </tbody>\n",
       "</table>\n",
       "</div>"
      ],
      "text/plain": [
       "   IsCanceled  LeadTime  ArrivalDateYear  ArrivalDateMonth  \\\n",
       "0           0         6             2015                 6   \n",
       "1           1        88             2015                 6   \n",
       "2           1        65             2015                 6   \n",
       "3           1        92             2015                 6   \n",
       "4           1       100             2015                 6   \n",
       "\n",
       "   ArrivalDateWeekNumber  ArrivalDateDayOfMonth  StaysInWeekendNights  \\\n",
       "0                     27                      1                     0   \n",
       "1                     27                      1                     0   \n",
       "2                     27                      1                     0   \n",
       "3                     27                      1                     2   \n",
       "4                     27                      2                     0   \n",
       "\n",
       "   StaysInWeekNights  Adults  Children  Babies  Meal  MarketSegment  \\\n",
       "0                  2       1         0       0     2              5   \n",
       "1                  4       2         0       0     0              6   \n",
       "2                  4       1         0       0     0              6   \n",
       "3                  4       2         0       0     0              6   \n",
       "4                  2       2         0       0     0              6   \n",
       "\n",
       "   DistributionChannel  IsRepeatedGuest  PreviousCancellations  \\\n",
       "0                    3                0                      0   \n",
       "1                    3                0                      0   \n",
       "2                    3                0                      0   \n",
       "3                    3                0                      0   \n",
       "4                    3                0                      0   \n",
       "\n",
       "   PreviousBookingsNotCanceled  ReservedRoomType  AssignedRoomType  \\\n",
       "0                            0                 0                 0   \n",
       "1                            0                 0                 0   \n",
       "2                            0                 0                 0   \n",
       "3                            0                 0                 0   \n",
       "4                            0                 0                 0   \n",
       "\n",
       "   BookingChanges  DepositType  Agent  Company  DaysInWaitingList  \\\n",
       "0               0            0      6        0                  0   \n",
       "1               0            0      9        0                  0   \n",
       "2               0            0      9        0                  0   \n",
       "3               0            0      9        0                  0   \n",
       "4               0            0      9        0                  0   \n",
       "\n",
       "   CustomerType   ADR  RequiredCarParkingSpaces  TotalOfSpecialRequests  \\\n",
       "0             2   0.0                         0                       0   \n",
       "1             2  76.5                         0                       1   \n",
       "2             2  68.0                         0                       1   \n",
       "3             2  76.5                         0                       2   \n",
       "4             2  76.5                         0                       1   \n",
       "\n",
       "   ReservationStatus  ReservationStatusYear  ReservationStatusMonth  \\\n",
       "0                  1                   2015                       7   \n",
       "1                  0                   2015                       7   \n",
       "2                  0                   2015                       4   \n",
       "3                  0                   2015                       6   \n",
       "4                  0                   2015                       4   \n",
       "\n",
       "   ReservationStatusDay  \n",
       "0                     3  \n",
       "1                     1  \n",
       "2                    30  \n",
       "3                    23  \n",
       "4                     2  "
      ]
     },
     "execution_count": 80,
     "metadata": {},
     "output_type": "execute_result"
    }
   ],
   "source": [
    "# Check for final state of data\n",
    "df.head()"
   ]
  }
 ],
 "metadata": {
  "kernelspec": {
   "display_name": ".venv",
   "language": "python",
   "name": "python3"
  },
  "language_info": {
   "codemirror_mode": {
    "name": "ipython",
    "version": 3
   },
   "file_extension": ".py",
   "mimetype": "text/x-python",
   "name": "python",
   "nbconvert_exporter": "python",
   "pygments_lexer": "ipython3",
   "version": "3.13.1"
  }
 },
 "nbformat": 4,
 "nbformat_minor": 2
}
